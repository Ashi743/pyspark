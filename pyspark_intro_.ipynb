{
  "nbformat": 4,
  "nbformat_minor": 0,
  "metadata": {
    "colab": {
      "provenance": [],
      "authorship_tag": "ABX9TyNpga/wczH0/0s7Tvs8y4Ev",
      "include_colab_link": true
    },
    "kernelspec": {
      "name": "python3",
      "display_name": "Python 3"
    },
    "language_info": {
      "name": "python"
    }
  },
  "cells": [
    {
      "cell_type": "markdown",
      "metadata": {
        "id": "view-in-github",
        "colab_type": "text"
      },
      "source": [
        "<a href=\"https://colab.research.google.com/github/Ashi743/pyspark/blob/main/pyspark_intro_.ipynb\" target=\"_parent\"><img src=\"https://colab.research.google.com/assets/colab-badge.svg\" alt=\"Open In Colab\"/></a>"
      ]
    },
    {
      "cell_type": "code",
      "execution_count": null,
      "metadata": {
        "colab": {
          "base_uri": "https://localhost:8080/"
        },
        "id": "9xiv9JkrBayk",
        "outputId": "550cab2e-3a81-45b3-8788-4ebdf76922ad"
      },
      "outputs": [
        {
          "output_type": "stream",
          "name": "stdout",
          "text": [
            "Requirement already satisfied: pyspark in /usr/local/lib/python3.10/dist-packages (3.5.3)\n",
            "Requirement already satisfied: py4j==0.10.9.7 in /usr/local/lib/python3.10/dist-packages (from pyspark) (0.10.9.7)\n"
          ]
        }
      ],
      "source": [
        "!pip  install pyspark"
      ]
    },
    {
      "cell_type": "code",
      "source": [
        "import pyspark\n",
        "import pandas as pd"
      ],
      "metadata": {
        "id": "zDAaHCbbERSI"
      },
      "execution_count": null,
      "outputs": []
    },
    {
      "cell_type": "code",
      "source": [
        "df= pd.read_csv('/content/df_solar2.csv')"
      ],
      "metadata": {
        "id": "IyMRXpYuERWR"
      },
      "execution_count": null,
      "outputs": []
    },
    {
      "cell_type": "code",
      "source": [
        "df.head(3)"
      ],
      "metadata": {
        "colab": {
          "base_uri": "https://localhost:8080/",
          "height": 250
        },
        "id": "k4vvm2dUEReR",
        "outputId": "fbf8f1a3-e59e-4461-cd81-e98387df4dc7"
      },
      "execution_count": null,
      "outputs": [
        {
          "output_type": "execute_result",
          "data": {
            "text/plain": [
              "          DATE_TIME       SOURCE_KEY  DC_POWER  AC_POWER  DAILY_YIELD  \\\n",
              "0  2020-05-15 00:00  4UPUqMRk7TRMgml       0.0       0.0  9425.000000   \n",
              "1  2020-05-15 00:00  81aHJ1q11NBPMrL       0.0       0.0     0.000000   \n",
              "2  2020-05-15 00:00  9kRcWv60rDACzjR       0.0       0.0  3075.333333   \n",
              "\n",
              "    TOTAL_YIELD  AMBIENT_TEMPERATURE  MODULE_TEMPERATURE  IRRADIATION  \\\n",
              "0  2.429011e+06            27.004764           25.060789          0.0   \n",
              "1  1.215279e+09            27.004764           25.060789          0.0   \n",
              "2  2.247720e+09            27.004764           25.060789          0.0   \n",
              "\n",
              "         DATE      TIME  DAY  MONTH  WEEK  HOURS  MINUTES  TOTAL MINUTES PASS  \\\n",
              "0  2020-05-15  00:00:00   15      5    20      0        0                   0   \n",
              "1  2020-05-15  00:00:00   15      5    20      0        0                   0   \n",
              "2  2020-05-15  00:00:00   15      5    20      0        0                   0   \n",
              "\n",
              "  DATE_STRING  SOURCE_KEY_NUMBER  \n",
              "0  2020-05-15                  0  \n",
              "1  2020-05-15                  1  \n",
              "2  2020-05-15                  2  "
            ],
            "text/html": [
              "\n",
              "  <div id=\"df-0748f5ef-d1ae-4c36-8d24-a205c4f5940f\" class=\"colab-df-container\">\n",
              "    <div>\n",
              "<style scoped>\n",
              "    .dataframe tbody tr th:only-of-type {\n",
              "        vertical-align: middle;\n",
              "    }\n",
              "\n",
              "    .dataframe tbody tr th {\n",
              "        vertical-align: top;\n",
              "    }\n",
              "\n",
              "    .dataframe thead th {\n",
              "        text-align: right;\n",
              "    }\n",
              "</style>\n",
              "<table border=\"1\" class=\"dataframe\">\n",
              "  <thead>\n",
              "    <tr style=\"text-align: right;\">\n",
              "      <th></th>\n",
              "      <th>DATE_TIME</th>\n",
              "      <th>SOURCE_KEY</th>\n",
              "      <th>DC_POWER</th>\n",
              "      <th>AC_POWER</th>\n",
              "      <th>DAILY_YIELD</th>\n",
              "      <th>TOTAL_YIELD</th>\n",
              "      <th>AMBIENT_TEMPERATURE</th>\n",
              "      <th>MODULE_TEMPERATURE</th>\n",
              "      <th>IRRADIATION</th>\n",
              "      <th>DATE</th>\n",
              "      <th>TIME</th>\n",
              "      <th>DAY</th>\n",
              "      <th>MONTH</th>\n",
              "      <th>WEEK</th>\n",
              "      <th>HOURS</th>\n",
              "      <th>MINUTES</th>\n",
              "      <th>TOTAL MINUTES PASS</th>\n",
              "      <th>DATE_STRING</th>\n",
              "      <th>SOURCE_KEY_NUMBER</th>\n",
              "    </tr>\n",
              "  </thead>\n",
              "  <tbody>\n",
              "    <tr>\n",
              "      <th>0</th>\n",
              "      <td>2020-05-15 00:00</td>\n",
              "      <td>4UPUqMRk7TRMgml</td>\n",
              "      <td>0.0</td>\n",
              "      <td>0.0</td>\n",
              "      <td>9425.000000</td>\n",
              "      <td>2.429011e+06</td>\n",
              "      <td>27.004764</td>\n",
              "      <td>25.060789</td>\n",
              "      <td>0.0</td>\n",
              "      <td>2020-05-15</td>\n",
              "      <td>00:00:00</td>\n",
              "      <td>15</td>\n",
              "      <td>5</td>\n",
              "      <td>20</td>\n",
              "      <td>0</td>\n",
              "      <td>0</td>\n",
              "      <td>0</td>\n",
              "      <td>2020-05-15</td>\n",
              "      <td>0</td>\n",
              "    </tr>\n",
              "    <tr>\n",
              "      <th>1</th>\n",
              "      <td>2020-05-15 00:00</td>\n",
              "      <td>81aHJ1q11NBPMrL</td>\n",
              "      <td>0.0</td>\n",
              "      <td>0.0</td>\n",
              "      <td>0.000000</td>\n",
              "      <td>1.215279e+09</td>\n",
              "      <td>27.004764</td>\n",
              "      <td>25.060789</td>\n",
              "      <td>0.0</td>\n",
              "      <td>2020-05-15</td>\n",
              "      <td>00:00:00</td>\n",
              "      <td>15</td>\n",
              "      <td>5</td>\n",
              "      <td>20</td>\n",
              "      <td>0</td>\n",
              "      <td>0</td>\n",
              "      <td>0</td>\n",
              "      <td>2020-05-15</td>\n",
              "      <td>1</td>\n",
              "    </tr>\n",
              "    <tr>\n",
              "      <th>2</th>\n",
              "      <td>2020-05-15 00:00</td>\n",
              "      <td>9kRcWv60rDACzjR</td>\n",
              "      <td>0.0</td>\n",
              "      <td>0.0</td>\n",
              "      <td>3075.333333</td>\n",
              "      <td>2.247720e+09</td>\n",
              "      <td>27.004764</td>\n",
              "      <td>25.060789</td>\n",
              "      <td>0.0</td>\n",
              "      <td>2020-05-15</td>\n",
              "      <td>00:00:00</td>\n",
              "      <td>15</td>\n",
              "      <td>5</td>\n",
              "      <td>20</td>\n",
              "      <td>0</td>\n",
              "      <td>0</td>\n",
              "      <td>0</td>\n",
              "      <td>2020-05-15</td>\n",
              "      <td>2</td>\n",
              "    </tr>\n",
              "  </tbody>\n",
              "</table>\n",
              "</div>\n",
              "    <div class=\"colab-df-buttons\">\n",
              "\n",
              "  <div class=\"colab-df-container\">\n",
              "    <button class=\"colab-df-convert\" onclick=\"convertToInteractive('df-0748f5ef-d1ae-4c36-8d24-a205c4f5940f')\"\n",
              "            title=\"Convert this dataframe to an interactive table.\"\n",
              "            style=\"display:none;\">\n",
              "\n",
              "  <svg xmlns=\"http://www.w3.org/2000/svg\" height=\"24px\" viewBox=\"0 -960 960 960\">\n",
              "    <path d=\"M120-120v-720h720v720H120Zm60-500h600v-160H180v160Zm220 220h160v-160H400v160Zm0 220h160v-160H400v160ZM180-400h160v-160H180v160Zm440 0h160v-160H620v160ZM180-180h160v-160H180v160Zm440 0h160v-160H620v160Z\"/>\n",
              "  </svg>\n",
              "    </button>\n",
              "\n",
              "  <style>\n",
              "    .colab-df-container {\n",
              "      display:flex;\n",
              "      gap: 12px;\n",
              "    }\n",
              "\n",
              "    .colab-df-convert {\n",
              "      background-color: #E8F0FE;\n",
              "      border: none;\n",
              "      border-radius: 50%;\n",
              "      cursor: pointer;\n",
              "      display: none;\n",
              "      fill: #1967D2;\n",
              "      height: 32px;\n",
              "      padding: 0 0 0 0;\n",
              "      width: 32px;\n",
              "    }\n",
              "\n",
              "    .colab-df-convert:hover {\n",
              "      background-color: #E2EBFA;\n",
              "      box-shadow: 0px 1px 2px rgba(60, 64, 67, 0.3), 0px 1px 3px 1px rgba(60, 64, 67, 0.15);\n",
              "      fill: #174EA6;\n",
              "    }\n",
              "\n",
              "    .colab-df-buttons div {\n",
              "      margin-bottom: 4px;\n",
              "    }\n",
              "\n",
              "    [theme=dark] .colab-df-convert {\n",
              "      background-color: #3B4455;\n",
              "      fill: #D2E3FC;\n",
              "    }\n",
              "\n",
              "    [theme=dark] .colab-df-convert:hover {\n",
              "      background-color: #434B5C;\n",
              "      box-shadow: 0px 1px 3px 1px rgba(0, 0, 0, 0.15);\n",
              "      filter: drop-shadow(0px 1px 2px rgba(0, 0, 0, 0.3));\n",
              "      fill: #FFFFFF;\n",
              "    }\n",
              "  </style>\n",
              "\n",
              "    <script>\n",
              "      const buttonEl =\n",
              "        document.querySelector('#df-0748f5ef-d1ae-4c36-8d24-a205c4f5940f button.colab-df-convert');\n",
              "      buttonEl.style.display =\n",
              "        google.colab.kernel.accessAllowed ? 'block' : 'none';\n",
              "\n",
              "      async function convertToInteractive(key) {\n",
              "        const element = document.querySelector('#df-0748f5ef-d1ae-4c36-8d24-a205c4f5940f');\n",
              "        const dataTable =\n",
              "          await google.colab.kernel.invokeFunction('convertToInteractive',\n",
              "                                                    [key], {});\n",
              "        if (!dataTable) return;\n",
              "\n",
              "        const docLinkHtml = 'Like what you see? Visit the ' +\n",
              "          '<a target=\"_blank\" href=https://colab.research.google.com/notebooks/data_table.ipynb>data table notebook</a>'\n",
              "          + ' to learn more about interactive tables.';\n",
              "        element.innerHTML = '';\n",
              "        dataTable['output_type'] = 'display_data';\n",
              "        await google.colab.output.renderOutput(dataTable, element);\n",
              "        const docLink = document.createElement('div');\n",
              "        docLink.innerHTML = docLinkHtml;\n",
              "        element.appendChild(docLink);\n",
              "      }\n",
              "    </script>\n",
              "  </div>\n",
              "\n",
              "\n",
              "<div id=\"df-ba866c63-0f3a-44f8-bd2c-add0e255af79\">\n",
              "  <button class=\"colab-df-quickchart\" onclick=\"quickchart('df-ba866c63-0f3a-44f8-bd2c-add0e255af79')\"\n",
              "            title=\"Suggest charts\"\n",
              "            style=\"display:none;\">\n",
              "\n",
              "<svg xmlns=\"http://www.w3.org/2000/svg\" height=\"24px\"viewBox=\"0 0 24 24\"\n",
              "     width=\"24px\">\n",
              "    <g>\n",
              "        <path d=\"M19 3H5c-1.1 0-2 .9-2 2v14c0 1.1.9 2 2 2h14c1.1 0 2-.9 2-2V5c0-1.1-.9-2-2-2zM9 17H7v-7h2v7zm4 0h-2V7h2v10zm4 0h-2v-4h2v4z\"/>\n",
              "    </g>\n",
              "</svg>\n",
              "  </button>\n",
              "\n",
              "<style>\n",
              "  .colab-df-quickchart {\n",
              "      --bg-color: #E8F0FE;\n",
              "      --fill-color: #1967D2;\n",
              "      --hover-bg-color: #E2EBFA;\n",
              "      --hover-fill-color: #174EA6;\n",
              "      --disabled-fill-color: #AAA;\n",
              "      --disabled-bg-color: #DDD;\n",
              "  }\n",
              "\n",
              "  [theme=dark] .colab-df-quickchart {\n",
              "      --bg-color: #3B4455;\n",
              "      --fill-color: #D2E3FC;\n",
              "      --hover-bg-color: #434B5C;\n",
              "      --hover-fill-color: #FFFFFF;\n",
              "      --disabled-bg-color: #3B4455;\n",
              "      --disabled-fill-color: #666;\n",
              "  }\n",
              "\n",
              "  .colab-df-quickchart {\n",
              "    background-color: var(--bg-color);\n",
              "    border: none;\n",
              "    border-radius: 50%;\n",
              "    cursor: pointer;\n",
              "    display: none;\n",
              "    fill: var(--fill-color);\n",
              "    height: 32px;\n",
              "    padding: 0;\n",
              "    width: 32px;\n",
              "  }\n",
              "\n",
              "  .colab-df-quickchart:hover {\n",
              "    background-color: var(--hover-bg-color);\n",
              "    box-shadow: 0 1px 2px rgba(60, 64, 67, 0.3), 0 1px 3px 1px rgba(60, 64, 67, 0.15);\n",
              "    fill: var(--button-hover-fill-color);\n",
              "  }\n",
              "\n",
              "  .colab-df-quickchart-complete:disabled,\n",
              "  .colab-df-quickchart-complete:disabled:hover {\n",
              "    background-color: var(--disabled-bg-color);\n",
              "    fill: var(--disabled-fill-color);\n",
              "    box-shadow: none;\n",
              "  }\n",
              "\n",
              "  .colab-df-spinner {\n",
              "    border: 2px solid var(--fill-color);\n",
              "    border-color: transparent;\n",
              "    border-bottom-color: var(--fill-color);\n",
              "    animation:\n",
              "      spin 1s steps(1) infinite;\n",
              "  }\n",
              "\n",
              "  @keyframes spin {\n",
              "    0% {\n",
              "      border-color: transparent;\n",
              "      border-bottom-color: var(--fill-color);\n",
              "      border-left-color: var(--fill-color);\n",
              "    }\n",
              "    20% {\n",
              "      border-color: transparent;\n",
              "      border-left-color: var(--fill-color);\n",
              "      border-top-color: var(--fill-color);\n",
              "    }\n",
              "    30% {\n",
              "      border-color: transparent;\n",
              "      border-left-color: var(--fill-color);\n",
              "      border-top-color: var(--fill-color);\n",
              "      border-right-color: var(--fill-color);\n",
              "    }\n",
              "    40% {\n",
              "      border-color: transparent;\n",
              "      border-right-color: var(--fill-color);\n",
              "      border-top-color: var(--fill-color);\n",
              "    }\n",
              "    60% {\n",
              "      border-color: transparent;\n",
              "      border-right-color: var(--fill-color);\n",
              "    }\n",
              "    80% {\n",
              "      border-color: transparent;\n",
              "      border-right-color: var(--fill-color);\n",
              "      border-bottom-color: var(--fill-color);\n",
              "    }\n",
              "    90% {\n",
              "      border-color: transparent;\n",
              "      border-bottom-color: var(--fill-color);\n",
              "    }\n",
              "  }\n",
              "</style>\n",
              "\n",
              "  <script>\n",
              "    async function quickchart(key) {\n",
              "      const quickchartButtonEl =\n",
              "        document.querySelector('#' + key + ' button');\n",
              "      quickchartButtonEl.disabled = true;  // To prevent multiple clicks.\n",
              "      quickchartButtonEl.classList.add('colab-df-spinner');\n",
              "      try {\n",
              "        const charts = await google.colab.kernel.invokeFunction(\n",
              "            'suggestCharts', [key], {});\n",
              "      } catch (error) {\n",
              "        console.error('Error during call to suggestCharts:', error);\n",
              "      }\n",
              "      quickchartButtonEl.classList.remove('colab-df-spinner');\n",
              "      quickchartButtonEl.classList.add('colab-df-quickchart-complete');\n",
              "    }\n",
              "    (() => {\n",
              "      let quickchartButtonEl =\n",
              "        document.querySelector('#df-ba866c63-0f3a-44f8-bd2c-add0e255af79 button');\n",
              "      quickchartButtonEl.style.display =\n",
              "        google.colab.kernel.accessAllowed ? 'block' : 'none';\n",
              "    })();\n",
              "  </script>\n",
              "</div>\n",
              "\n",
              "    </div>\n",
              "  </div>\n"
            ],
            "application/vnd.google.colaboratory.intrinsic+json": {
              "type": "dataframe",
              "variable_name": "df",
              "summary": "{\n  \"name\": \"df\",\n  \"rows\": 67698,\n  \"fields\": [\n    {\n      \"column\": \"DATE_TIME\",\n      \"properties\": {\n        \"dtype\": \"object\",\n        \"num_unique_values\": 3259,\n        \"samples\": [\n          \"2020-05-31 09:00\",\n          \"2020-05-16 09:45\",\n          \"2020-05-23 19:30\"\n        ],\n        \"semantic_type\": \"\",\n        \"description\": \"\"\n      }\n    },\n    {\n      \"column\": \"SOURCE_KEY\",\n      \"properties\": {\n        \"dtype\": \"category\",\n        \"num_unique_values\": 22,\n        \"samples\": [\n          \"4UPUqMRk7TRMgml\",\n          \"WcxssY2VbP4hApt\",\n          \"NgDl19wMapZy17u\"\n        ],\n        \"semantic_type\": \"\",\n        \"description\": \"\"\n      }\n    },\n    {\n      \"column\": \"DC_POWER\",\n      \"properties\": {\n        \"dtype\": \"number\",\n        \"std\": 370.5695967451306,\n        \"min\": 0.0,\n        \"max\": 1420.9333333333332,\n        \"num_unique_values\": 30799,\n        \"samples\": [\n          161.07333333333335,\n          1105.5266666666666,\n          929.66\n        ],\n        \"semantic_type\": \"\",\n        \"description\": \"\"\n      }\n    },\n    {\n      \"column\": \"AC_POWER\",\n      \"properties\": {\n        \"dtype\": \"number\",\n        \"std\": 362.11211783373807,\n        \"min\": 0.0,\n        \"max\": 1385.42,\n        \"num_unique_values\": 30744,\n        \"samples\": [\n          993.9933333333332,\n          1067.6533333333334,\n          911.05\n        ],\n        \"semantic_type\": \"\",\n        \"description\": \"\"\n      }\n    },\n    {\n      \"column\": \"DAILY_YIELD\",\n      \"properties\": {\n        \"dtype\": \"number\",\n        \"std\": 2919.4483856557454,\n        \"min\": 0.0,\n        \"max\": 9873.0,\n        \"num_unique_values\": 30432,\n        \"samples\": [\n          7460.714285714286,\n          1824.4,\n          6013.642857142857\n        ],\n        \"semantic_type\": \"\",\n        \"description\": \"\"\n      }\n    },\n    {\n      \"column\": \"TOTAL_YIELD\",\n      \"properties\": {\n        \"dtype\": \"number\",\n        \"std\": 729667771.0732207,\n        \"min\": 0.0,\n        \"max\": 2247916295.0,\n        \"num_unique_values\": 33114,\n        \"samples\": [\n          209155871.33333328,\n          1660018596.4666667,\n          121079119.93333334\n        ],\n        \"semantic_type\": \"\",\n        \"description\": \"\"\n      }\n    },\n    {\n      \"column\": \"AMBIENT_TEMPERATURE\",\n      \"properties\": {\n        \"dtype\": \"number\",\n        \"std\": 4.021293930153526,\n        \"min\": 20.942384766666667,\n        \"max\": 39.18163776666666,\n        \"num_unique_values\": 3259,\n        \"samples\": [\n          29.230036206896543,\n          32.11526058620689,\n          33.44275720689656\n        ],\n        \"semantic_type\": \"\",\n        \"description\": \"\"\n      }\n    },\n    {\n      \"column\": \"MODULE_TEMPERATURE\",\n      \"properties\": {\n        \"dtype\": \"number\",\n        \"std\": 11.226445952151554,\n        \"min\": 20.26512306896552,\n        \"max\": 66.6359527586207,\n        \"num_unique_values\": 3259,\n        \"samples\": [\n          37.51293513793103,\n          56.264713862068966,\n          31.280739517241383\n        ],\n        \"semantic_type\": \"\",\n        \"description\": \"\"\n      }\n    },\n    {\n      \"column\": \"IRRADIATION\",\n      \"properties\": {\n        \"dtype\": \"number\",\n        \"std\": 0.3093648751430535,\n        \"min\": 0.0,\n        \"max\": 1.0987660434482758,\n        \"num_unique_values\": 1863,\n        \"samples\": [\n          0.3633468526666667,\n          0.8682732336666668,\n          0.7781043136666665\n        ],\n        \"semantic_type\": \"\",\n        \"description\": \"\"\n      }\n    },\n    {\n      \"column\": \"DATE\",\n      \"properties\": {\n        \"dtype\": \"object\",\n        \"num_unique_values\": 34,\n        \"samples\": [\n          \"2020-05-30\",\n          \"2020-06-03\",\n          \"2020-06-11\"\n        ],\n        \"semantic_type\": \"\",\n        \"description\": \"\"\n      }\n    },\n    {\n      \"column\": \"TIME\",\n      \"properties\": {\n        \"dtype\": \"object\",\n        \"num_unique_values\": 96,\n        \"samples\": [\n          \"20:00:00\",\n          \"19:15:00\",\n          \"18:15:00\"\n        ],\n        \"semantic_type\": \"\",\n        \"description\": \"\"\n      }\n    },\n    {\n      \"column\": \"DAY\",\n      \"properties\": {\n        \"dtype\": \"number\",\n        \"std\": 8,\n        \"min\": 1,\n        \"max\": 31,\n        \"num_unique_values\": 31,\n        \"samples\": [\n          11,\n          30,\n          7\n        ],\n        \"semantic_type\": \"\",\n        \"description\": \"\"\n      }\n    },\n    {\n      \"column\": \"MONTH\",\n      \"properties\": {\n        \"dtype\": \"number\",\n        \"std\": 0,\n        \"min\": 5,\n        \"max\": 6,\n        \"num_unique_values\": 2,\n        \"samples\": [\n          6,\n          5\n        ],\n        \"semantic_type\": \"\",\n        \"description\": \"\"\n      }\n    },\n    {\n      \"column\": \"WEEK\",\n      \"properties\": {\n        \"dtype\": \"number\",\n        \"std\": 1,\n        \"min\": 20,\n        \"max\": 25,\n        \"num_unique_values\": 6,\n        \"samples\": [\n          20,\n          21\n        ],\n        \"semantic_type\": \"\",\n        \"description\": \"\"\n      }\n    },\n    {\n      \"column\": \"HOURS\",\n      \"properties\": {\n        \"dtype\": \"number\",\n        \"std\": 6,\n        \"min\": 0,\n        \"max\": 23,\n        \"num_unique_values\": 24,\n        \"samples\": [\n          8,\n          16\n        ],\n        \"semantic_type\": \"\",\n        \"description\": \"\"\n      }\n    },\n    {\n      \"column\": \"MINUTES\",\n      \"properties\": {\n        \"dtype\": \"number\",\n        \"std\": 16,\n        \"min\": 0,\n        \"max\": 45,\n        \"num_unique_values\": 4,\n        \"samples\": [\n          15,\n          45\n        ],\n        \"semantic_type\": \"\",\n        \"description\": \"\"\n      }\n    },\n    {\n      \"column\": \"TOTAL MINUTES PASS\",\n      \"properties\": {\n        \"dtype\": \"number\",\n        \"std\": 415,\n        \"min\": 0,\n        \"max\": 1425,\n        \"num_unique_values\": 96,\n        \"samples\": [\n          1200,\n          1155\n        ],\n        \"semantic_type\": \"\",\n        \"description\": \"\"\n      }\n    },\n    {\n      \"column\": \"DATE_STRING\",\n      \"properties\": {\n        \"dtype\": \"object\",\n        \"num_unique_values\": 34,\n        \"samples\": [\n          \"2020-05-30\",\n          \"2020-06-03\"\n        ],\n        \"semantic_type\": \"\",\n        \"description\": \"\"\n      }\n    },\n    {\n      \"column\": \"SOURCE_KEY_NUMBER\",\n      \"properties\": {\n        \"dtype\": \"number\",\n        \"std\": 6,\n        \"min\": 0,\n        \"max\": 21,\n        \"num_unique_values\": 22,\n        \"samples\": [\n          0,\n          13\n        ],\n        \"semantic_type\": \"\",\n        \"description\": \"\"\n      }\n    }\n  ]\n}"
            }
          },
          "metadata": {},
          "execution_count": 6
        }
      ]
    },
    {
      "cell_type": "code",
      "source": [
        "from pyspark.sql import SparkSession"
      ],
      "metadata": {
        "id": "kFouAPOADuaT"
      },
      "execution_count": null,
      "outputs": []
    },
    {
      "cell_type": "code",
      "source": [
        "spark= SparkSession.builder.appName(\"Practise\").getOrCreate()"
      ],
      "metadata": {
        "id": "GVXKlff2ERfs"
      },
      "execution_count": null,
      "outputs": []
    },
    {
      "cell_type": "code",
      "source": [
        "spark"
      ],
      "metadata": {
        "colab": {
          "base_uri": "https://localhost:8080/",
          "height": 222
        },
        "id": "ciDsmoFJERhm",
        "outputId": "ba92b0bf-495c-4265-df6c-74f7efae3d3d"
      },
      "execution_count": null,
      "outputs": [
        {
          "output_type": "execute_result",
          "data": {
            "text/plain": [
              "<pyspark.sql.session.SparkSession at 0x78725111fbe0>"
            ],
            "text/html": [
              "\n",
              "            <div>\n",
              "                <p><b>SparkSession - in-memory</b></p>\n",
              "                \n",
              "        <div>\n",
              "            <p><b>SparkContext</b></p>\n",
              "\n",
              "            <p><a href=\"http://4d27d2a68a11:4040\">Spark UI</a></p>\n",
              "\n",
              "            <dl>\n",
              "              <dt>Version</dt>\n",
              "                <dd><code>v3.5.3</code></dd>\n",
              "              <dt>Master</dt>\n",
              "                <dd><code>local[*]</code></dd>\n",
              "              <dt>AppName</dt>\n",
              "                <dd><code>Practise</code></dd>\n",
              "            </dl>\n",
              "        </div>\n",
              "        \n",
              "            </div>\n",
              "        "
            ]
          },
          "metadata": {},
          "execution_count": 9
        }
      ]
    },
    {
      "cell_type": "code",
      "source": [
        "df_pyspark= spark.read.csv('/content/df_solar2.csv')"
      ],
      "metadata": {
        "id": "QF19AOpJERky"
      },
      "execution_count": null,
      "outputs": []
    },
    {
      "cell_type": "code",
      "source": [
        "df_pyspark"
      ],
      "metadata": {
        "colab": {
          "base_uri": "https://localhost:8080/"
        },
        "id": "985Uer1bERmV",
        "outputId": "06cb262d-ee20-48f1-cb66-dde6a26929b4"
      },
      "execution_count": null,
      "outputs": [
        {
          "output_type": "execute_result",
          "data": {
            "text/plain": [
              "DataFrame[_c0: string, _c1: string, _c2: string, _c3: string, _c4: string, _c5: string, _c6: string, _c7: string, _c8: string, _c9: string, _c10: string, _c11: string, _c12: string, _c13: string, _c14: string, _c15: string, _c16: string, _c17: string, _c18: string]"
            ]
          },
          "metadata": {},
          "execution_count": 11
        }
      ]
    },
    {
      "cell_type": "code",
      "source": [
        "df_pyspark=spark.read.options(header='True', inferSchema='True').csv('/content/df_solar2.csv')"
      ],
      "metadata": {
        "id": "lJfCsQo3MVXm"
      },
      "execution_count": null,
      "outputs": []
    },
    {
      "cell_type": "code",
      "source": [
        "df_pyspark.show()"
      ],
      "metadata": {
        "colab": {
          "base_uri": "https://localhost:8080/"
        },
        "id": "iUAedbkFERnx",
        "outputId": "0aea73aa-b12a-4f5d-93c8-374704910986"
      },
      "execution_count": null,
      "outputs": [
        {
          "output_type": "stream",
          "name": "stdout",
          "text": [
            "+----------------+---------------+--------+--------+------------------+------------+-------------------+------------------+-----------+----------+--------+----+-----+----+-----+-------+------------------+-----------+-----------------+\n",
            "|             _c0|            _c1|     _c2|     _c3|               _c4|         _c5|                _c6|               _c7|        _c8|       _c9|    _c10|_c11| _c12|_c13| _c14|   _c15|              _c16|       _c17|             _c18|\n",
            "+----------------+---------------+--------+--------+------------------+------------+-------------------+------------------+-----------+----------+--------+----+-----+----+-----+-------+------------------+-----------+-----------------+\n",
            "|       DATE_TIME|     SOURCE_KEY|DC_POWER|AC_POWER|       DAILY_YIELD| TOTAL_YIELD|AMBIENT_TEMPERATURE|MODULE_TEMPERATURE|IRRADIATION|      DATE|    TIME| DAY|MONTH|WEEK|HOURS|MINUTES|TOTAL MINUTES PASS|DATE_STRING|SOURCE_KEY_NUMBER|\n",
            "|2020-05-15 00:00|4UPUqMRk7TRMgml|     0.0|     0.0|            9425.0|   2429011.0| 27.004763700000005|        25.0607889|        0.0|2020-05-15|00:00:00|  15|    5|  20|    0|      0|                 0| 2020-05-15|                0|\n",
            "|2020-05-15 00:00|81aHJ1q11NBPMrL|     0.0|     0.0|               0.0|1215278736.0| 27.004763700000005|        25.0607889|        0.0|2020-05-15|00:00:00|  15|    5|  20|    0|      0|                 0| 2020-05-15|                1|\n",
            "|2020-05-15 00:00|9kRcWv60rDACzjR|     0.0|     0.0|3075.3333333333344|2247719577.0| 27.004763700000005|        25.0607889|        0.0|2020-05-15|00:00:00|  15|    5|  20|    0|      0|                 0| 2020-05-15|                2|\n",
            "|2020-05-15 00:00|Et9kgGMDl729KT4|     0.0|     0.0| 269.9333333333333|   1704250.0| 27.004763700000005|        25.0607889|        0.0|2020-05-15|00:00:00|  15|    5|  20|    0|      0|                 0| 2020-05-15|                3|\n",
            "|2020-05-15 00:00|IQ2d7wF4YD8zU1Q|     0.0|     0.0|            3177.0|  19941526.0| 27.004763700000005|        25.0607889|        0.0|2020-05-15|00:00:00|  15|    5|  20|    0|      0|                 0| 2020-05-15|                4|\n",
            "|2020-05-15 00:00|LYwnQax7tkwH5Cb|     0.0|     0.0|            1872.5|1794958634.0| 27.004763700000005|        25.0607889|        0.0|2020-05-15|00:00:00|  15|    5|  20|    0|      0|                 0| 2020-05-15|                5|\n",
            "|2020-05-15 00:00|LlT2YUhhzqhg5Sw|     0.0|     0.0| 1094.357142857143| 282592810.0| 27.004763700000005|        25.0607889|        0.0|2020-05-15|00:00:00|  15|    5|  20|    0|      0|                 0| 2020-05-15|                6|\n",
            "|2020-05-15 00:00|Mx2yZCDsyf6DPfv|     0.0|     0.0|            5692.2|   2453646.0| 27.004763700000005|        25.0607889|        0.0|2020-05-15|00:00:00|  15|    5|  20|    0|      0|                 0| 2020-05-15|                7|\n",
            "|2020-05-15 00:00|NgDl19wMapZy17u|     0.0|     0.0|            1866.2| 111512591.0| 27.004763700000005|        25.0607889|        0.0|2020-05-15|00:00:00|  15|    5|  20|    0|      0|                 0| 2020-05-15|                8|\n",
            "|2020-05-15 00:00|PeE6FRyGXUgsRhN|     0.0|     0.0| 651.1999999999999|1348350801.0| 27.004763700000005|        25.0607889|        0.0|2020-05-15|00:00:00|  15|    5|  20|    0|      0|                 0| 2020-05-15|                9|\n",
            "|2020-05-15 00:00|Qf4GUc1pJu5T6c6|     0.0|     0.0|               0.0| 838421377.0| 27.004763700000005|        25.0607889|        0.0|2020-05-15|00:00:00|  15|    5|  20|    0|      0|                 0| 2020-05-15|               10|\n",
            "|2020-05-15 00:00|Quc1TzYxW2pYoWX|     0.0|     0.0|            5495.0| 329509085.0| 27.004763700000005|        25.0607889|        0.0|2020-05-15|00:00:00|  15|    5|  20|    0|      0|                 0| 2020-05-15|               11|\n",
            "|2020-05-15 00:00|V94E5Ben1TlhnDV|     0.0|     0.0|               0.0|1412083119.0| 27.004763700000005|        25.0607889|        0.0|2020-05-15|00:00:00|  15|    5|  20|    0|      0|                 0| 2020-05-15|               12|\n",
            "|2020-05-15 00:00|WcxssY2VbP4hApt|     0.0|     0.0|               0.0| 181695261.0| 27.004763700000005|        25.0607889|        0.0|2020-05-15|00:00:00|  15|    5|  20|    0|      0|                 0| 2020-05-15|               13|\n",
            "|2020-05-15 00:00|mqwcsP2rE7J0TFp|     0.0|     0.0|1238.5333333333333| 593580025.0| 27.004763700000005|        25.0607889|        0.0|2020-05-15|00:00:00|  15|    5|  20|    0|      0|                 0| 2020-05-15|               14|\n",
            "|2020-05-15 00:00|oZ35aAeoifZaQzV|     0.0|     0.0|1281.4666666666667|1659965051.0| 27.004763700000005|        25.0607889|        0.0|2020-05-15|00:00:00|  15|    5|  20|    0|      0|                 0| 2020-05-15|               15|\n",
            "|2020-05-15 00:00|oZZkBaNadn6DNKz|     0.0|     0.0|               0.0|1708083348.0| 27.004763700000005|        25.0607889|        0.0|2020-05-15|00:00:00|  15|    5|  20|    0|      0|                 0| 2020-05-15|               16|\n",
            "|2020-05-15 00:00|q49J1IKaHRwDQnt|     0.0|     0.0|            4315.0|    339923.0| 27.004763700000005|        25.0607889|        0.0|2020-05-15|00:00:00|  15|    5|  20|    0|      0|                 0| 2020-05-15|               17|\n",
            "|2020-05-15 00:00|rrq4fwE8jgrTyWY|     0.0|     0.0|280.21428571428567| 120964108.0| 27.004763700000005|        25.0607889|        0.0|2020-05-15|00:00:00|  15|    5|  20|    0|      0|                 0| 2020-05-15|               18|\n",
            "+----------------+---------------+--------+--------+------------------+------------+-------------------+------------------+-----------+----------+--------+----+-----+----+-----+-------+------------------+-----------+-----------------+\n",
            "only showing top 20 rows\n",
            "\n"
          ]
        }
      ]
    },
    {
      "cell_type": "code",
      "source": [
        "print(type(df_pyspark))\n",
        "print(type(df))"
      ],
      "metadata": {
        "colab": {
          "base_uri": "https://localhost:8080/"
        },
        "id": "khJ3XLz9ERp7",
        "outputId": "4a72ec54-f93d-4aa3-b68f-4c8b9668c0ca"
      },
      "execution_count": null,
      "outputs": [
        {
          "output_type": "stream",
          "name": "stdout",
          "text": [
            "<class 'pyspark.sql.dataframe.DataFrame'>\n",
            "<class 'pandas.core.frame.DataFrame'>\n"
          ]
        }
      ]
    },
    {
      "cell_type": "code",
      "source": [
        "df_pyspark.head(3)"
      ],
      "metadata": {
        "colab": {
          "base_uri": "https://localhost:8080/"
        },
        "id": "a-EUaABzM1LU",
        "outputId": "e50072dd-2d35-400c-a352-7a187c240427"
      },
      "execution_count": null,
      "outputs": [
        {
          "output_type": "execute_result",
          "data": {
            "text/plain": [
              "[Row(DATE_TIME=datetime.datetime(2020, 5, 15, 0, 0), SOURCE_KEY='4UPUqMRk7TRMgml', DC_POWER=0.0, AC_POWER=0.0, DAILY_YIELD=9425.0, TOTAL_YIELD=2429011.0, AMBIENT_TEMPERATURE=27.004763700000005, MODULE_TEMPERATURE=25.0607889, IRRADIATION=0.0, DATE=datetime.date(2020, 5, 15), TIME=datetime.datetime(2025, 1, 3, 0, 0), DAY=15, MONTH=5, WEEK=20, HOURS=0, MINUTES=0, TOTAL MINUTES PASS=0, DATE_STRING=datetime.date(2020, 5, 15), SOURCE_KEY_NUMBER=0),\n",
              " Row(DATE_TIME=datetime.datetime(2020, 5, 15, 0, 0), SOURCE_KEY='81aHJ1q11NBPMrL', DC_POWER=0.0, AC_POWER=0.0, DAILY_YIELD=0.0, TOTAL_YIELD=1215278736.0, AMBIENT_TEMPERATURE=27.004763700000005, MODULE_TEMPERATURE=25.0607889, IRRADIATION=0.0, DATE=datetime.date(2020, 5, 15), TIME=datetime.datetime(2025, 1, 3, 0, 0), DAY=15, MONTH=5, WEEK=20, HOURS=0, MINUTES=0, TOTAL MINUTES PASS=0, DATE_STRING=datetime.date(2020, 5, 15), SOURCE_KEY_NUMBER=1),\n",
              " Row(DATE_TIME=datetime.datetime(2020, 5, 15, 0, 0), SOURCE_KEY='9kRcWv60rDACzjR', DC_POWER=0.0, AC_POWER=0.0, DAILY_YIELD=3075.3333333333344, TOTAL_YIELD=2247719577.0, AMBIENT_TEMPERATURE=27.004763700000005, MODULE_TEMPERATURE=25.0607889, IRRADIATION=0.0, DATE=datetime.date(2020, 5, 15), TIME=datetime.datetime(2025, 1, 3, 0, 0), DAY=15, MONTH=5, WEEK=20, HOURS=0, MINUTES=0, TOTAL MINUTES PASS=0, DATE_STRING=datetime.date(2020, 5, 15), SOURCE_KEY_NUMBER=2)]"
            ]
          },
          "metadata": {},
          "execution_count": 17
        }
      ]
    },
    {
      "cell_type": "code",
      "source": [
        "df_pyspark.printSchema()"
      ],
      "metadata": {
        "colab": {
          "base_uri": "https://localhost:8080/"
        },
        "id": "47BfLbZGM5-e",
        "outputId": "3b052580-083b-4c17-f3c3-de34af24732b"
      },
      "execution_count": null,
      "outputs": [
        {
          "output_type": "stream",
          "name": "stdout",
          "text": [
            "root\n",
            " |-- DATE_TIME: timestamp (nullable = true)\n",
            " |-- SOURCE_KEY: string (nullable = true)\n",
            " |-- DC_POWER: double (nullable = true)\n",
            " |-- AC_POWER: double (nullable = true)\n",
            " |-- DAILY_YIELD: double (nullable = true)\n",
            " |-- TOTAL_YIELD: double (nullable = true)\n",
            " |-- AMBIENT_TEMPERATURE: double (nullable = true)\n",
            " |-- MODULE_TEMPERATURE: double (nullable = true)\n",
            " |-- IRRADIATION: double (nullable = true)\n",
            " |-- DATE: date (nullable = true)\n",
            " |-- TIME: timestamp (nullable = true)\n",
            " |-- DAY: integer (nullable = true)\n",
            " |-- MONTH: integer (nullable = true)\n",
            " |-- WEEK: integer (nullable = true)\n",
            " |-- HOURS: integer (nullable = true)\n",
            " |-- MINUTES: integer (nullable = true)\n",
            " |-- TOTAL MINUTES PASS: integer (nullable = true)\n",
            " |-- DATE_STRING: date (nullable = true)\n",
            " |-- SOURCE_KEY_NUMBER: integer (nullable = true)\n",
            "\n"
          ]
        }
      ]
    },
    {
      "cell_type": "code",
      "source": [],
      "metadata": {
        "id": "zD19h7EgM6EF"
      },
      "execution_count": null,
      "outputs": []
    },
    {
      "cell_type": "code",
      "source": [],
      "metadata": {
        "id": "Gy6dZplsM6Fk"
      },
      "execution_count": null,
      "outputs": []
    },
    {
      "cell_type": "code",
      "source": [],
      "metadata": {
        "id": "wVeBQzY2M6HM"
      },
      "execution_count": null,
      "outputs": []
    },
    {
      "cell_type": "code",
      "source": [],
      "metadata": {
        "id": "Z_RFzSKJM6JH"
      },
      "execution_count": null,
      "outputs": []
    },
    {
      "cell_type": "code",
      "source": [],
      "metadata": {
        "id": "dlbHj2nGM6LN"
      },
      "execution_count": null,
      "outputs": []
    },
    {
      "cell_type": "code",
      "source": [],
      "metadata": {
        "id": "9ewVL42EM6OC"
      },
      "execution_count": null,
      "outputs": []
    },
    {
      "cell_type": "code",
      "source": [],
      "metadata": {
        "id": "ru2pkp3XM6SG"
      },
      "execution_count": null,
      "outputs": []
    },
    {
      "cell_type": "code",
      "source": [],
      "metadata": {
        "id": "CtFwa3tXM6UU"
      },
      "execution_count": null,
      "outputs": []
    },
    {
      "cell_type": "code",
      "source": [],
      "metadata": {
        "id": "oIVN28JzM6Wd"
      },
      "execution_count": null,
      "outputs": []
    },
    {
      "cell_type": "code",
      "source": [],
      "metadata": {
        "id": "KiEayNFzM6Yx"
      },
      "execution_count": null,
      "outputs": []
    },
    {
      "cell_type": "code",
      "source": [],
      "metadata": {
        "id": "Zq0nF1JQM6d3"
      },
      "execution_count": null,
      "outputs": []
    }
  ]
}