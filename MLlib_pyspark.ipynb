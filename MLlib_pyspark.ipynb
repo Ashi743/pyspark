{
  "nbformat": 4,
  "nbformat_minor": 0,
  "metadata": {
    "colab": {
      "provenance": [],
      "authorship_tag": "ABX9TyPcUuJxTB4mMZ7fxya0vSP/",
      "include_colab_link": true
    },
    "kernelspec": {
      "name": "python3",
      "display_name": "Python 3"
    },
    "language_info": {
      "name": "python"
    }
  },
  "cells": [
    {
      "cell_type": "markdown",
      "metadata": {
        "id": "view-in-github",
        "colab_type": "text"
      },
      "source": [
        "<a href=\"https://colab.research.google.com/github/Ashi743/pyspark/blob/main/MLlib_pyspark.ipynb\" target=\"_parent\"><img src=\"https://colab.research.google.com/assets/colab-badge.svg\" alt=\"Open In Colab\"/></a>"
      ]
    },
    {
      "cell_type": "code",
      "execution_count": 1,
      "metadata": {
        "id": "StiPGaLZYT95"
      },
      "outputs": [],
      "source": [
        "import pyspark\n",
        "from pyspark.sql import SparkSession\n",
        "spark= SparkSession.builder.appName(\"Missing\").getOrCreate()"
      ]
    },
    {
      "cell_type": "code",
      "source": [
        "training= spark.read.csv(\"/content/test1.csv\", header=True ,inferSchema= True)"
      ],
      "metadata": {
        "id": "4AlOU2Zgcod7"
      },
      "execution_count": 2,
      "outputs": []
    },
    {
      "cell_type": "code",
      "source": [
        "training.show()"
      ],
      "metadata": {
        "colab": {
          "base_uri": "https://localhost:8080/"
        },
        "id": "QeHnH28KcolH",
        "outputId": "f23def5a-1f1a-46c7-cbc1-31110a90a124"
      },
      "execution_count": 3,
      "outputs": [
        {
          "output_type": "stream",
          "name": "stdout",
          "text": [
            "+---------+---+----------+------+\n",
            "|     Name|age|Experience|Salary|\n",
            "+---------+---+----------+------+\n",
            "|    Krish| 31|        10| 30000|\n",
            "|Sudhanshu| 30|         8| 25000|\n",
            "|    Sunny| 29|         4| 20000|\n",
            "|     Paul| 24|         3| 20000|\n",
            "|   Harsha| 21|         1| 15000|\n",
            "|  Shubham| 23|         2| 18000|\n",
            "+---------+---+----------+------+\n",
            "\n"
          ]
        }
      ]
    },
    {
      "cell_type": "code",
      "source": [
        "training.printSchema()"
      ],
      "metadata": {
        "colab": {
          "base_uri": "https://localhost:8080/"
        },
        "id": "0TUKO12Qcomw",
        "outputId": "35c50137-cfdd-4de2-b287-727f28f70d29"
      },
      "execution_count": 4,
      "outputs": [
        {
          "output_type": "stream",
          "name": "stdout",
          "text": [
            "root\n",
            " |-- Name: string (nullable = true)\n",
            " |-- age: integer (nullable = true)\n",
            " |-- Experience: integer (nullable = true)\n",
            " |-- Salary: integer (nullable = true)\n",
            "\n"
          ]
        }
      ]
    },
    {
      "cell_type": "code",
      "source": [
        "training.columns"
      ],
      "metadata": {
        "colab": {
          "base_uri": "https://localhost:8080/"
        },
        "id": "gH16uuNxcoou",
        "outputId": "bc5d0390-2b64-436d-e222-1d67079515be"
      },
      "execution_count": 6,
      "outputs": [
        {
          "output_type": "execute_result",
          "data": {
            "text/plain": [
              "['Name', 'age', 'Experience', 'Salary']"
            ]
          },
          "metadata": {},
          "execution_count": 6
        }
      ]
    },
    {
      "cell_type": "code",
      "source": [
        "from pyspark.ml.feature import VectorAssembler\n",
        "featureassembler= VectorAssembler(inputCols=[\"age\",\"Experience\"],\n",
        "                                  outputCol=\"Independent age and exp\")\n"
      ],
      "metadata": {
        "id": "itSQeHjocoqm"
      },
      "execution_count": 10,
      "outputs": []
    },
    {
      "cell_type": "code",
      "source": [
        "output= featureassembler.transform(training)\n",
        "output.show()"
      ],
      "metadata": {
        "colab": {
          "base_uri": "https://localhost:8080/"
        },
        "id": "r2N32r9RcosP",
        "outputId": "eea3b0dc-d309-42f7-8e1e-aa16192f89fe"
      },
      "execution_count": 11,
      "outputs": [
        {
          "output_type": "stream",
          "name": "stdout",
          "text": [
            "+---------+---+----------+------+-----------------------+\n",
            "|     Name|age|Experience|Salary|Independent age and exp|\n",
            "+---------+---+----------+------+-----------------------+\n",
            "|    Krish| 31|        10| 30000|            [31.0,10.0]|\n",
            "|Sudhanshu| 30|         8| 25000|             [30.0,8.0]|\n",
            "|    Sunny| 29|         4| 20000|             [29.0,4.0]|\n",
            "|     Paul| 24|         3| 20000|             [24.0,3.0]|\n",
            "|   Harsha| 21|         1| 15000|             [21.0,1.0]|\n",
            "|  Shubham| 23|         2| 18000|             [23.0,2.0]|\n",
            "+---------+---+----------+------+-----------------------+\n",
            "\n"
          ]
        }
      ]
    },
    {
      "cell_type": "code",
      "source": [
        "finalized_data =output.select(\"Independent age and exp\", \"Salary\")\n",
        "finalized_data.show()"
      ],
      "metadata": {
        "colab": {
          "base_uri": "https://localhost:8080/"
        },
        "id": "P7NNG_pccotz",
        "outputId": "9f3693f0-eada-4a46-acb9-92132594efda"
      },
      "execution_count": 13,
      "outputs": [
        {
          "output_type": "stream",
          "name": "stdout",
          "text": [
            "+-----------------------+------+\n",
            "|Independent age and exp|Salary|\n",
            "+-----------------------+------+\n",
            "|            [31.0,10.0]| 30000|\n",
            "|             [30.0,8.0]| 25000|\n",
            "|             [29.0,4.0]| 20000|\n",
            "|             [24.0,3.0]| 20000|\n",
            "|             [21.0,1.0]| 15000|\n",
            "|             [23.0,2.0]| 18000|\n",
            "+-----------------------+------+\n",
            "\n"
          ]
        }
      ]
    },
    {
      "cell_type": "code",
      "source": [
        "from pyspark.ml.regression import LinearRegression\n",
        "\n",
        "train ,test =finalized_data.randomSplit([0.75,0.25])\n",
        "regressor= LinearRegression(featuresCol= 'Independent age and exp', labelCol='Salary')\n",
        "regressor= regressor.fit(train)"
      ],
      "metadata": {
        "id": "O3i6SFjMcovB"
      },
      "execution_count": 14,
      "outputs": []
    },
    {
      "cell_type": "code",
      "source": [
        "regressor.coefficients , regressor.intercept"
      ],
      "metadata": {
        "colab": {
          "base_uri": "https://localhost:8080/"
        },
        "id": "DF8Diy0PcowK",
        "outputId": "fe4d72d0-093b-43d2-b95f-689b60b570e4"
      },
      "execution_count": 16,
      "outputs": [
        {
          "output_type": "execute_result",
          "data": {
            "text/plain": [
              "(DenseVector([47.619, 1285.7143]), 13619.047619047727)"
            ]
          },
          "metadata": {},
          "execution_count": 16
        }
      ]
    },
    {
      "cell_type": "code",
      "source": [
        "pred= regressor.evaluate(test)\n",
        "pred.predictions.show()"
      ],
      "metadata": {
        "colab": {
          "base_uri": "https://localhost:8080/"
        },
        "id": "Q-oShHEFcpHU",
        "outputId": "12dcb8a3-2d2a-4bdc-e180-73d9af67e249"
      },
      "execution_count": 18,
      "outputs": [
        {
          "output_type": "stream",
          "name": "stdout",
          "text": [
            "+-----------------------+------+------------------+\n",
            "|Independent age and exp|Salary|        prediction|\n",
            "+-----------------------+------+------------------+\n",
            "|             [23.0,2.0]| 18000|17285.714285714283|\n",
            "|            [31.0,10.0]| 30000|27952.380952380976|\n",
            "+-----------------------+------+------------------+\n",
            "\n"
          ]
        }
      ]
    },
    {
      "cell_type": "code",
      "source": [
        "pred.meanAbsoluteError"
      ],
      "metadata": {
        "colab": {
          "base_uri": "https://localhost:8080/"
        },
        "id": "4t4xxqyBcpVA",
        "outputId": "325f100c-666b-4ab8-aa2e-f29f04d3e5b1"
      },
      "execution_count": 19,
      "outputs": [
        {
          "output_type": "execute_result",
          "data": {
            "text/plain": [
              "1380.9523809523707"
            ]
          },
          "metadata": {},
          "execution_count": 19
        }
      ]
    },
    {
      "cell_type": "code",
      "source": [],
      "metadata": {
        "id": "PolYqavwcpa3"
      },
      "execution_count": null,
      "outputs": []
    }
  ]
}