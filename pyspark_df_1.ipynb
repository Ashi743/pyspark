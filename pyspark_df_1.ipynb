{
  "nbformat": 4,
  "nbformat_minor": 0,
  "metadata": {
    "colab": {
      "provenance": [],
      "authorship_tag": "ABX9TyPM/QzfbISxl5EcDmHcigAy",
      "include_colab_link": true
    },
    "kernelspec": {
      "name": "python3",
      "display_name": "Python 3"
    },
    "language_info": {
      "name": "python"
    }
  },
  "cells": [
    {
      "cell_type": "markdown",
      "metadata": {
        "id": "view-in-github",
        "colab_type": "text"
      },
      "source": [
        "<a href=\"https://colab.research.google.com/github/Ashi743/pyspark/blob/main/pyspark_df_1.ipynb\" target=\"_parent\"><img src=\"https://colab.research.google.com/assets/colab-badge.svg\" alt=\"Open In Colab\"/></a>"
      ]
    },
    {
      "cell_type": "code",
      "execution_count": null,
      "metadata": {
        "id": "rAFfJjJ-OUCm"
      },
      "outputs": [],
      "source": [
        "import pyspark\n",
        "import pandas\n",
        "from pyspark.sql import SparkSession"
      ]
    },
    {
      "cell_type": "code",
      "source": [
        "spark= SparkSession.builder.appName('DataFrame').getOrCreate()\n",
        "spark"
      ],
      "metadata": {
        "colab": {
          "base_uri": "https://localhost:8080/",
          "height": 222
        },
        "id": "sSUvqFF6OoXB",
        "outputId": "53f8a1d4-7ec6-4494-9bad-78bb76c969a8"
      },
      "execution_count": null,
      "outputs": [
        {
          "output_type": "execute_result",
          "data": {
            "text/plain": [
              "<pyspark.sql.session.SparkSession at 0x7803d201bfd0>"
            ],
            "text/html": [
              "\n",
              "            <div>\n",
              "                <p><b>SparkSession - in-memory</b></p>\n",
              "                \n",
              "        <div>\n",
              "            <p><b>SparkContext</b></p>\n",
              "\n",
              "            <p><a href=\"http://37a9e24d01cc:4040\">Spark UI</a></p>\n",
              "\n",
              "            <dl>\n",
              "              <dt>Version</dt>\n",
              "                <dd><code>v3.5.3</code></dd>\n",
              "              <dt>Master</dt>\n",
              "                <dd><code>local[*]</code></dd>\n",
              "              <dt>AppName</dt>\n",
              "                <dd><code>DataFrame</code></dd>\n",
              "            </dl>\n",
              "        </div>\n",
              "        \n",
              "            </div>\n",
              "        "
            ]
          },
          "metadata": {},
          "execution_count": 4
        }
      ]
    },
    {
      "cell_type": "code",
      "source": [
        "#read dataset\n",
        "df_spark= spark.read.option('header', 'true').csv('/content/df_solar2.csv' ,inferSchema= True)"
      ],
      "metadata": {
        "id": "LTwxw2QVO6kx"
      },
      "execution_count": null,
      "outputs": []
    },
    {
      "cell_type": "code",
      "source": [
        "df_spark.show()"
      ],
      "metadata": {
        "colab": {
          "base_uri": "https://localhost:8080/"
        },
        "id": "EXjM9hffO7J3",
        "outputId": "3c004b29-27ff-4fa6-e0e6-9666f2d7be9d"
      },
      "execution_count": null,
      "outputs": [
        {
          "output_type": "stream",
          "name": "stdout",
          "text": [
            "+-------------------+---------------+--------+--------+------------------+-------------+-------------------+------------------+-----------+----------+-------------------+---+-----+----+-----+-------+------------------+-----------+-----------------+\n",
            "|          DATE_TIME|     SOURCE_KEY|DC_POWER|AC_POWER|       DAILY_YIELD|  TOTAL_YIELD|AMBIENT_TEMPERATURE|MODULE_TEMPERATURE|IRRADIATION|      DATE|               TIME|DAY|MONTH|WEEK|HOURS|MINUTES|TOTAL MINUTES PASS|DATE_STRING|SOURCE_KEY_NUMBER|\n",
            "+-------------------+---------------+--------+--------+------------------+-------------+-------------------+------------------+-----------+----------+-------------------+---+-----+----+-----+-------+------------------+-----------+-----------------+\n",
            "|2020-05-15 00:00:00|4UPUqMRk7TRMgml|     0.0|     0.0|            9425.0|    2429011.0| 27.004763700000005|        25.0607889|        0.0|2020-05-15|2025-01-03 00:00:00| 15|    5|  20|    0|      0|                 0| 2020-05-15|                0|\n",
            "|2020-05-15 00:00:00|81aHJ1q11NBPMrL|     0.0|     0.0|               0.0|1.215278736E9| 27.004763700000005|        25.0607889|        0.0|2020-05-15|2025-01-03 00:00:00| 15|    5|  20|    0|      0|                 0| 2020-05-15|                1|\n",
            "|2020-05-15 00:00:00|9kRcWv60rDACzjR|     0.0|     0.0|3075.3333333333344|2.247719577E9| 27.004763700000005|        25.0607889|        0.0|2020-05-15|2025-01-03 00:00:00| 15|    5|  20|    0|      0|                 0| 2020-05-15|                2|\n",
            "|2020-05-15 00:00:00|Et9kgGMDl729KT4|     0.0|     0.0| 269.9333333333333|    1704250.0| 27.004763700000005|        25.0607889|        0.0|2020-05-15|2025-01-03 00:00:00| 15|    5|  20|    0|      0|                 0| 2020-05-15|                3|\n",
            "|2020-05-15 00:00:00|IQ2d7wF4YD8zU1Q|     0.0|     0.0|            3177.0|  1.9941526E7| 27.004763700000005|        25.0607889|        0.0|2020-05-15|2025-01-03 00:00:00| 15|    5|  20|    0|      0|                 0| 2020-05-15|                4|\n",
            "|2020-05-15 00:00:00|LYwnQax7tkwH5Cb|     0.0|     0.0|            1872.5|1.794958634E9| 27.004763700000005|        25.0607889|        0.0|2020-05-15|2025-01-03 00:00:00| 15|    5|  20|    0|      0|                 0| 2020-05-15|                5|\n",
            "|2020-05-15 00:00:00|LlT2YUhhzqhg5Sw|     0.0|     0.0| 1094.357142857143|  2.8259281E8| 27.004763700000005|        25.0607889|        0.0|2020-05-15|2025-01-03 00:00:00| 15|    5|  20|    0|      0|                 0| 2020-05-15|                6|\n",
            "|2020-05-15 00:00:00|Mx2yZCDsyf6DPfv|     0.0|     0.0|            5692.2|    2453646.0| 27.004763700000005|        25.0607889|        0.0|2020-05-15|2025-01-03 00:00:00| 15|    5|  20|    0|      0|                 0| 2020-05-15|                7|\n",
            "|2020-05-15 00:00:00|NgDl19wMapZy17u|     0.0|     0.0|            1866.2| 1.11512591E8| 27.004763700000005|        25.0607889|        0.0|2020-05-15|2025-01-03 00:00:00| 15|    5|  20|    0|      0|                 0| 2020-05-15|                8|\n",
            "|2020-05-15 00:00:00|PeE6FRyGXUgsRhN|     0.0|     0.0| 651.1999999999999|1.348350801E9| 27.004763700000005|        25.0607889|        0.0|2020-05-15|2025-01-03 00:00:00| 15|    5|  20|    0|      0|                 0| 2020-05-15|                9|\n",
            "|2020-05-15 00:00:00|Qf4GUc1pJu5T6c6|     0.0|     0.0|               0.0| 8.38421377E8| 27.004763700000005|        25.0607889|        0.0|2020-05-15|2025-01-03 00:00:00| 15|    5|  20|    0|      0|                 0| 2020-05-15|               10|\n",
            "|2020-05-15 00:00:00|Quc1TzYxW2pYoWX|     0.0|     0.0|            5495.0| 3.29509085E8| 27.004763700000005|        25.0607889|        0.0|2020-05-15|2025-01-03 00:00:00| 15|    5|  20|    0|      0|                 0| 2020-05-15|               11|\n",
            "|2020-05-15 00:00:00|V94E5Ben1TlhnDV|     0.0|     0.0|               0.0|1.412083119E9| 27.004763700000005|        25.0607889|        0.0|2020-05-15|2025-01-03 00:00:00| 15|    5|  20|    0|      0|                 0| 2020-05-15|               12|\n",
            "|2020-05-15 00:00:00|WcxssY2VbP4hApt|     0.0|     0.0|               0.0| 1.81695261E8| 27.004763700000005|        25.0607889|        0.0|2020-05-15|2025-01-03 00:00:00| 15|    5|  20|    0|      0|                 0| 2020-05-15|               13|\n",
            "|2020-05-15 00:00:00|mqwcsP2rE7J0TFp|     0.0|     0.0|1238.5333333333333| 5.93580025E8| 27.004763700000005|        25.0607889|        0.0|2020-05-15|2025-01-03 00:00:00| 15|    5|  20|    0|      0|                 0| 2020-05-15|               14|\n",
            "|2020-05-15 00:00:00|oZ35aAeoifZaQzV|     0.0|     0.0|1281.4666666666667|1.659965051E9| 27.004763700000005|        25.0607889|        0.0|2020-05-15|2025-01-03 00:00:00| 15|    5|  20|    0|      0|                 0| 2020-05-15|               15|\n",
            "|2020-05-15 00:00:00|oZZkBaNadn6DNKz|     0.0|     0.0|               0.0|1.708083348E9| 27.004763700000005|        25.0607889|        0.0|2020-05-15|2025-01-03 00:00:00| 15|    5|  20|    0|      0|                 0| 2020-05-15|               16|\n",
            "|2020-05-15 00:00:00|q49J1IKaHRwDQnt|     0.0|     0.0|            4315.0|     339923.0| 27.004763700000005|        25.0607889|        0.0|2020-05-15|2025-01-03 00:00:00| 15|    5|  20|    0|      0|                 0| 2020-05-15|               17|\n",
            "|2020-05-15 00:00:00|rrq4fwE8jgrTyWY|     0.0|     0.0|280.21428571428567| 1.20964108E8| 27.004763700000005|        25.0607889|        0.0|2020-05-15|2025-01-03 00:00:00| 15|    5|  20|    0|      0|                 0| 2020-05-15|               18|\n",
            "|2020-05-15 00:00:00|vOuJvMaM2sgwLmb|     0.0|     0.0|               0.0|    2211962.0| 27.004763700000005|        25.0607889|        0.0|2020-05-15|2025-01-03 00:00:00| 15|    5|  20|    0|      0|                 0| 2020-05-15|               19|\n",
            "+-------------------+---------------+--------+--------+------------------+-------------+-------------------+------------------+-----------+----------+-------------------+---+-----+----+-----+-------+------------------+-----------+-----------------+\n",
            "only showing top 20 rows\n",
            "\n"
          ]
        }
      ]
    },
    {
      "cell_type": "code",
      "source": [
        "df_spark.printSchema()"
      ],
      "metadata": {
        "colab": {
          "base_uri": "https://localhost:8080/"
        },
        "id": "W1o77g19O7af",
        "outputId": "4fa50b3e-cbab-43ae-9153-ec7de3cc819a"
      },
      "execution_count": null,
      "outputs": [
        {
          "output_type": "stream",
          "name": "stdout",
          "text": [
            "root\n",
            " |-- DATE_TIME: timestamp (nullable = true)\n",
            " |-- SOURCE_KEY: string (nullable = true)\n",
            " |-- DC_POWER: double (nullable = true)\n",
            " |-- AC_POWER: double (nullable = true)\n",
            " |-- DAILY_YIELD: double (nullable = true)\n",
            " |-- TOTAL_YIELD: double (nullable = true)\n",
            " |-- AMBIENT_TEMPERATURE: double (nullable = true)\n",
            " |-- MODULE_TEMPERATURE: double (nullable = true)\n",
            " |-- IRRADIATION: double (nullable = true)\n",
            " |-- DATE: date (nullable = true)\n",
            " |-- TIME: timestamp (nullable = true)\n",
            " |-- DAY: integer (nullable = true)\n",
            " |-- MONTH: integer (nullable = true)\n",
            " |-- WEEK: integer (nullable = true)\n",
            " |-- HOURS: integer (nullable = true)\n",
            " |-- MINUTES: integer (nullable = true)\n",
            " |-- TOTAL MINUTES PASS: integer (nullable = true)\n",
            " |-- DATE_STRING: date (nullable = true)\n",
            " |-- SOURCE_KEY_NUMBER: integer (nullable = true)\n",
            "\n"
          ]
        }
      ]
    },
    {
      "cell_type": "code",
      "source": [
        "df_spark= spark.read.csv(\"/content/df_solar2.csv\", header= True, inferSchema= True)\n",
        "df_spark.show()"
      ],
      "metadata": {
        "colab": {
          "base_uri": "https://localhost:8080/"
        },
        "id": "6GiDW0JDO7qk",
        "outputId": "fa969396-bf28-4c1c-f2ff-8eeba020c899"
      },
      "execution_count": null,
      "outputs": [
        {
          "output_type": "stream",
          "name": "stdout",
          "text": [
            "+-------------------+---------------+--------+--------+------------------+-------------+-------------------+------------------+-----------+----------+-------------------+---+-----+----+-----+-------+------------------+-----------+-----------------+\n",
            "|          DATE_TIME|     SOURCE_KEY|DC_POWER|AC_POWER|       DAILY_YIELD|  TOTAL_YIELD|AMBIENT_TEMPERATURE|MODULE_TEMPERATURE|IRRADIATION|      DATE|               TIME|DAY|MONTH|WEEK|HOURS|MINUTES|TOTAL MINUTES PASS|DATE_STRING|SOURCE_KEY_NUMBER|\n",
            "+-------------------+---------------+--------+--------+------------------+-------------+-------------------+------------------+-----------+----------+-------------------+---+-----+----+-----+-------+------------------+-----------+-----------------+\n",
            "|2020-05-15 00:00:00|4UPUqMRk7TRMgml|     0.0|     0.0|            9425.0|    2429011.0| 27.004763700000005|        25.0607889|        0.0|2020-05-15|2025-01-03 00:00:00| 15|    5|  20|    0|      0|                 0| 2020-05-15|                0|\n",
            "|2020-05-15 00:00:00|81aHJ1q11NBPMrL|     0.0|     0.0|               0.0|1.215278736E9| 27.004763700000005|        25.0607889|        0.0|2020-05-15|2025-01-03 00:00:00| 15|    5|  20|    0|      0|                 0| 2020-05-15|                1|\n",
            "|2020-05-15 00:00:00|9kRcWv60rDACzjR|     0.0|     0.0|3075.3333333333344|2.247719577E9| 27.004763700000005|        25.0607889|        0.0|2020-05-15|2025-01-03 00:00:00| 15|    5|  20|    0|      0|                 0| 2020-05-15|                2|\n",
            "|2020-05-15 00:00:00|Et9kgGMDl729KT4|     0.0|     0.0| 269.9333333333333|    1704250.0| 27.004763700000005|        25.0607889|        0.0|2020-05-15|2025-01-03 00:00:00| 15|    5|  20|    0|      0|                 0| 2020-05-15|                3|\n",
            "|2020-05-15 00:00:00|IQ2d7wF4YD8zU1Q|     0.0|     0.0|            3177.0|  1.9941526E7| 27.004763700000005|        25.0607889|        0.0|2020-05-15|2025-01-03 00:00:00| 15|    5|  20|    0|      0|                 0| 2020-05-15|                4|\n",
            "|2020-05-15 00:00:00|LYwnQax7tkwH5Cb|     0.0|     0.0|            1872.5|1.794958634E9| 27.004763700000005|        25.0607889|        0.0|2020-05-15|2025-01-03 00:00:00| 15|    5|  20|    0|      0|                 0| 2020-05-15|                5|\n",
            "|2020-05-15 00:00:00|LlT2YUhhzqhg5Sw|     0.0|     0.0| 1094.357142857143|  2.8259281E8| 27.004763700000005|        25.0607889|        0.0|2020-05-15|2025-01-03 00:00:00| 15|    5|  20|    0|      0|                 0| 2020-05-15|                6|\n",
            "|2020-05-15 00:00:00|Mx2yZCDsyf6DPfv|     0.0|     0.0|            5692.2|    2453646.0| 27.004763700000005|        25.0607889|        0.0|2020-05-15|2025-01-03 00:00:00| 15|    5|  20|    0|      0|                 0| 2020-05-15|                7|\n",
            "|2020-05-15 00:00:00|NgDl19wMapZy17u|     0.0|     0.0|            1866.2| 1.11512591E8| 27.004763700000005|        25.0607889|        0.0|2020-05-15|2025-01-03 00:00:00| 15|    5|  20|    0|      0|                 0| 2020-05-15|                8|\n",
            "|2020-05-15 00:00:00|PeE6FRyGXUgsRhN|     0.0|     0.0| 651.1999999999999|1.348350801E9| 27.004763700000005|        25.0607889|        0.0|2020-05-15|2025-01-03 00:00:00| 15|    5|  20|    0|      0|                 0| 2020-05-15|                9|\n",
            "|2020-05-15 00:00:00|Qf4GUc1pJu5T6c6|     0.0|     0.0|               0.0| 8.38421377E8| 27.004763700000005|        25.0607889|        0.0|2020-05-15|2025-01-03 00:00:00| 15|    5|  20|    0|      0|                 0| 2020-05-15|               10|\n",
            "|2020-05-15 00:00:00|Quc1TzYxW2pYoWX|     0.0|     0.0|            5495.0| 3.29509085E8| 27.004763700000005|        25.0607889|        0.0|2020-05-15|2025-01-03 00:00:00| 15|    5|  20|    0|      0|                 0| 2020-05-15|               11|\n",
            "|2020-05-15 00:00:00|V94E5Ben1TlhnDV|     0.0|     0.0|               0.0|1.412083119E9| 27.004763700000005|        25.0607889|        0.0|2020-05-15|2025-01-03 00:00:00| 15|    5|  20|    0|      0|                 0| 2020-05-15|               12|\n",
            "|2020-05-15 00:00:00|WcxssY2VbP4hApt|     0.0|     0.0|               0.0| 1.81695261E8| 27.004763700000005|        25.0607889|        0.0|2020-05-15|2025-01-03 00:00:00| 15|    5|  20|    0|      0|                 0| 2020-05-15|               13|\n",
            "|2020-05-15 00:00:00|mqwcsP2rE7J0TFp|     0.0|     0.0|1238.5333333333333| 5.93580025E8| 27.004763700000005|        25.0607889|        0.0|2020-05-15|2025-01-03 00:00:00| 15|    5|  20|    0|      0|                 0| 2020-05-15|               14|\n",
            "|2020-05-15 00:00:00|oZ35aAeoifZaQzV|     0.0|     0.0|1281.4666666666667|1.659965051E9| 27.004763700000005|        25.0607889|        0.0|2020-05-15|2025-01-03 00:00:00| 15|    5|  20|    0|      0|                 0| 2020-05-15|               15|\n",
            "|2020-05-15 00:00:00|oZZkBaNadn6DNKz|     0.0|     0.0|               0.0|1.708083348E9| 27.004763700000005|        25.0607889|        0.0|2020-05-15|2025-01-03 00:00:00| 15|    5|  20|    0|      0|                 0| 2020-05-15|               16|\n",
            "|2020-05-15 00:00:00|q49J1IKaHRwDQnt|     0.0|     0.0|            4315.0|     339923.0| 27.004763700000005|        25.0607889|        0.0|2020-05-15|2025-01-03 00:00:00| 15|    5|  20|    0|      0|                 0| 2020-05-15|               17|\n",
            "|2020-05-15 00:00:00|rrq4fwE8jgrTyWY|     0.0|     0.0|280.21428571428567| 1.20964108E8| 27.004763700000005|        25.0607889|        0.0|2020-05-15|2025-01-03 00:00:00| 15|    5|  20|    0|      0|                 0| 2020-05-15|               18|\n",
            "|2020-05-15 00:00:00|vOuJvMaM2sgwLmb|     0.0|     0.0|               0.0|    2211962.0| 27.004763700000005|        25.0607889|        0.0|2020-05-15|2025-01-03 00:00:00| 15|    5|  20|    0|      0|                 0| 2020-05-15|               19|\n",
            "+-------------------+---------------+--------+--------+------------------+-------------+-------------------+------------------+-----------+----------+-------------------+---+-----+----+-----+-------+------------------+-----------+-----------------+\n",
            "only showing top 20 rows\n",
            "\n"
          ]
        }
      ]
    },
    {
      "cell_type": "code",
      "source": [
        "df_spark.printSchema()             #to check datatypes of columns"
      ],
      "metadata": {
        "colab": {
          "base_uri": "https://localhost:8080/"
        },
        "id": "sld8MnuBO74U",
        "outputId": "90fbad2b-ebf1-40a1-da89-7afc73136259"
      },
      "execution_count": null,
      "outputs": [
        {
          "output_type": "stream",
          "name": "stdout",
          "text": [
            "root\n",
            " |-- DATE_TIME: timestamp (nullable = true)\n",
            " |-- SOURCE_KEY: string (nullable = true)\n",
            " |-- DC_POWER: double (nullable = true)\n",
            " |-- AC_POWER: double (nullable = true)\n",
            " |-- DAILY_YIELD: double (nullable = true)\n",
            " |-- TOTAL_YIELD: double (nullable = true)\n",
            " |-- AMBIENT_TEMPERATURE: double (nullable = true)\n",
            " |-- MODULE_TEMPERATURE: double (nullable = true)\n",
            " |-- IRRADIATION: double (nullable = true)\n",
            " |-- DATE: date (nullable = true)\n",
            " |-- TIME: timestamp (nullable = true)\n",
            " |-- DAY: integer (nullable = true)\n",
            " |-- MONTH: integer (nullable = true)\n",
            " |-- WEEK: integer (nullable = true)\n",
            " |-- HOURS: integer (nullable = true)\n",
            " |-- MINUTES: integer (nullable = true)\n",
            " |-- TOTAL MINUTES PASS: integer (nullable = true)\n",
            " |-- DATE_STRING: date (nullable = true)\n",
            " |-- SOURCE_KEY_NUMBER: integer (nullable = true)\n",
            "\n"
          ]
        }
      ]
    },
    {
      "cell_type": "code",
      "source": [
        "type(df_spark)"
      ],
      "metadata": {
        "colab": {
          "base_uri": "https://localhost:8080/",
          "height": 186
        },
        "id": "tP0X26qfO8FB",
        "outputId": "b99d0f0b-7b68-43df-df81-0a57f58c64db"
      },
      "execution_count": null,
      "outputs": [
        {
          "output_type": "execute_result",
          "data": {
            "text/plain": [
              "pyspark.sql.dataframe.DataFrame"
            ],
            "text/html": [
              "<div style=\"max-width:800px; border: 1px solid var(--colab-border-color);\"><style>\n",
              "      pre.function-repr-contents {\n",
              "        overflow-x: auto;\n",
              "        padding: 8px 12px;\n",
              "        max-height: 500px;\n",
              "      }\n",
              "\n",
              "      pre.function-repr-contents.function-repr-contents-collapsed {\n",
              "        cursor: pointer;\n",
              "        max-height: 100px;\n",
              "      }\n",
              "    </style>\n",
              "    <pre style=\"white-space: initial; background:\n",
              "         var(--colab-secondary-surface-color); padding: 8px 12px;\n",
              "         border-bottom: 1px solid var(--colab-border-color);\"><b>pyspark.sql.dataframe.DataFrame</b><br/>def __init__(jdf: JavaObject, sql_ctx: Union[&#x27;SQLContext&#x27;, &#x27;SparkSession&#x27;])</pre><pre class=\"function-repr-contents function-repr-contents-collapsed\" style=\"\"><a class=\"filepath\" style=\"display:none\" href=\"#\">/usr/local/lib/python3.10/dist-packages/pyspark/sql/dataframe.py</a>A distributed collection of data grouped into named columns.\n",
              "\n",
              ".. versionadded:: 1.3.0\n",
              "\n",
              ".. versionchanged:: 3.4.0\n",
              "    Supports Spark Connect.\n",
              "\n",
              "Examples\n",
              "--------\n",
              "A :class:`DataFrame` is equivalent to a relational table in Spark SQL,\n",
              "and can be created using various functions in :class:`SparkSession`:\n",
              "\n",
              "&gt;&gt;&gt; people = spark.createDataFrame([\n",
              "...     {&quot;deptId&quot;: 1, &quot;age&quot;: 40, &quot;name&quot;: &quot;Hyukjin Kwon&quot;, &quot;gender&quot;: &quot;M&quot;, &quot;salary&quot;: 50},\n",
              "...     {&quot;deptId&quot;: 1, &quot;age&quot;: 50, &quot;name&quot;: &quot;Takuya Ueshin&quot;, &quot;gender&quot;: &quot;M&quot;, &quot;salary&quot;: 100},\n",
              "...     {&quot;deptId&quot;: 2, &quot;age&quot;: 60, &quot;name&quot;: &quot;Xinrong Meng&quot;, &quot;gender&quot;: &quot;F&quot;, &quot;salary&quot;: 150},\n",
              "...     {&quot;deptId&quot;: 3, &quot;age&quot;: 20, &quot;name&quot;: &quot;Haejoon Lee&quot;, &quot;gender&quot;: &quot;M&quot;, &quot;salary&quot;: 200}\n",
              "... ])\n",
              "\n",
              "Once created, it can be manipulated using the various domain-specific-language\n",
              "(DSL) functions defined in: :class:`DataFrame`, :class:`Column`.\n",
              "\n",
              "To select a column from the :class:`DataFrame`, use the apply method:\n",
              "\n",
              "&gt;&gt;&gt; age_col = people.age\n",
              "\n",
              "A more concrete example:\n",
              "\n",
              "&gt;&gt;&gt; # To create DataFrame using SparkSession\n",
              "... department = spark.createDataFrame([\n",
              "...     {&quot;id&quot;: 1, &quot;name&quot;: &quot;PySpark&quot;},\n",
              "...     {&quot;id&quot;: 2, &quot;name&quot;: &quot;ML&quot;},\n",
              "...     {&quot;id&quot;: 3, &quot;name&quot;: &quot;Spark SQL&quot;}\n",
              "... ])\n",
              "\n",
              "&gt;&gt;&gt; people.filter(people.age &gt; 30).join(\n",
              "...     department, people.deptId == department.id).groupBy(\n",
              "...     department.name, &quot;gender&quot;).agg({&quot;salary&quot;: &quot;avg&quot;, &quot;age&quot;: &quot;max&quot;}).show()\n",
              "+-------+------+-----------+--------+\n",
              "|   name|gender|avg(salary)|max(age)|\n",
              "+-------+------+-----------+--------+\n",
              "|     ML|     F|      150.0|      60|\n",
              "|PySpark|     M|       75.0|      50|\n",
              "+-------+------+-----------+--------+\n",
              "\n",
              "Notes\n",
              "-----\n",
              "A DataFrame should only be created as described above. It should not be directly\n",
              "created via using the constructor.</pre>\n",
              "      <script>\n",
              "      if (google.colab.kernel.accessAllowed && google.colab.files && google.colab.files.view) {\n",
              "        for (const element of document.querySelectorAll('.filepath')) {\n",
              "          element.style.display = 'block'\n",
              "          element.onclick = (event) => {\n",
              "            event.preventDefault();\n",
              "            event.stopPropagation();\n",
              "            google.colab.files.view(element.textContent, 80);\n",
              "          };\n",
              "        }\n",
              "      }\n",
              "      for (const element of document.querySelectorAll('.function-repr-contents')) {\n",
              "        element.onclick = (event) => {\n",
              "          event.preventDefault();\n",
              "          event.stopPropagation();\n",
              "          element.classList.toggle('function-repr-contents-collapsed');\n",
              "        };\n",
              "      }\n",
              "      </script>\n",
              "      </div>"
            ]
          },
          "metadata": {},
          "execution_count": 25
        }
      ]
    },
    {
      "cell_type": "code",
      "source": [
        "#to select a columns\n",
        "df_spark.select([\"WEEK\", \"SOURCE_KEY\"])"
      ],
      "metadata": {
        "colab": {
          "base_uri": "https://localhost:8080/"
        },
        "id": "QEG3Pv5SO8eF",
        "outputId": "6277852a-77c0-421f-f5fd-63712915b2bc"
      },
      "execution_count": null,
      "outputs": [
        {
          "output_type": "execute_result",
          "data": {
            "text/plain": [
              "DataFrame[WEEK: int, SOURCE_KEY: string]"
            ]
          },
          "metadata": {},
          "execution_count": 29
        }
      ]
    },
    {
      "cell_type": "code",
      "source": [
        "df_spark.select([\"WEEK\", \"SOURCE_KEY\"]).show()"
      ],
      "metadata": {
        "colab": {
          "base_uri": "https://localhost:8080/"
        },
        "id": "SahLBbHXO9Ce",
        "outputId": "e0dcfa69-c63c-45c1-e4f5-120058bd7a96"
      },
      "execution_count": null,
      "outputs": [
        {
          "output_type": "stream",
          "name": "stdout",
          "text": [
            "+----+---------------+\n",
            "|WEEK|     SOURCE_KEY|\n",
            "+----+---------------+\n",
            "|  20|4UPUqMRk7TRMgml|\n",
            "|  20|81aHJ1q11NBPMrL|\n",
            "|  20|9kRcWv60rDACzjR|\n",
            "|  20|Et9kgGMDl729KT4|\n",
            "|  20|IQ2d7wF4YD8zU1Q|\n",
            "|  20|LYwnQax7tkwH5Cb|\n",
            "|  20|LlT2YUhhzqhg5Sw|\n",
            "|  20|Mx2yZCDsyf6DPfv|\n",
            "|  20|NgDl19wMapZy17u|\n",
            "|  20|PeE6FRyGXUgsRhN|\n",
            "|  20|Qf4GUc1pJu5T6c6|\n",
            "|  20|Quc1TzYxW2pYoWX|\n",
            "|  20|V94E5Ben1TlhnDV|\n",
            "|  20|WcxssY2VbP4hApt|\n",
            "|  20|mqwcsP2rE7J0TFp|\n",
            "|  20|oZ35aAeoifZaQzV|\n",
            "|  20|oZZkBaNadn6DNKz|\n",
            "|  20|q49J1IKaHRwDQnt|\n",
            "|  20|rrq4fwE8jgrTyWY|\n",
            "|  20|vOuJvMaM2sgwLmb|\n",
            "+----+---------------+\n",
            "only showing top 20 rows\n",
            "\n"
          ]
        }
      ]
    },
    {
      "cell_type": "code",
      "source": [
        "df_spark['AC_POWER']"
      ],
      "metadata": {
        "colab": {
          "base_uri": "https://localhost:8080/"
        },
        "id": "jMOyCPTNO-nr",
        "outputId": "20248abe-7b8f-467b-f013-cfc782624ede"
      },
      "execution_count": null,
      "outputs": [
        {
          "output_type": "execute_result",
          "data": {
            "text/plain": [
              "Column<'AC_POWER'>"
            ]
          },
          "metadata": {},
          "execution_count": 32
        }
      ]
    },
    {
      "cell_type": "code",
      "source": [
        "#dtypes\n",
        "df_spark.dtypes"
      ],
      "metadata": {
        "colab": {
          "base_uri": "https://localhost:8080/"
        },
        "id": "1u9m6igEO-y3",
        "outputId": "e6310287-6bbc-42e0-9024-937d4038e26d"
      },
      "execution_count": null,
      "outputs": [
        {
          "output_type": "execute_result",
          "data": {
            "text/plain": [
              "[('DATE_TIME', 'timestamp'),\n",
              " ('SOURCE_KEY', 'string'),\n",
              " ('DC_POWER', 'double'),\n",
              " ('AC_POWER', 'double'),\n",
              " ('DAILY_YIELD', 'double'),\n",
              " ('TOTAL_YIELD', 'double'),\n",
              " ('AMBIENT_TEMPERATURE', 'double'),\n",
              " ('MODULE_TEMPERATURE', 'double'),\n",
              " ('IRRADIATION', 'double'),\n",
              " ('DATE', 'date'),\n",
              " ('TIME', 'timestamp'),\n",
              " ('DAY', 'int'),\n",
              " ('MONTH', 'int'),\n",
              " ('WEEK', 'int'),\n",
              " ('HOURS', 'int'),\n",
              " ('MINUTES', 'int'),\n",
              " ('TOTAL MINUTES PASS', 'int'),\n",
              " ('DATE_STRING', 'date'),\n",
              " ('SOURCE_KEY_NUMBER', 'int')]"
            ]
          },
          "metadata": {},
          "execution_count": 34
        }
      ]
    },
    {
      "cell_type": "code",
      "source": [
        "df_spark.describe()"
      ],
      "metadata": {
        "colab": {
          "base_uri": "https://localhost:8080/"
        },
        "id": "8xqpYE9MO-0n",
        "outputId": "cbabe170-07cc-4a81-f931-e02a0d79b282"
      },
      "execution_count": null,
      "outputs": [
        {
          "output_type": "execute_result",
          "data": {
            "text/plain": [
              "DataFrame[summary: string, SOURCE_KEY: string, DC_POWER: string, AC_POWER: string, DAILY_YIELD: string, TOTAL_YIELD: string, AMBIENT_TEMPERATURE: string, MODULE_TEMPERATURE: string, IRRADIATION: string, DAY: string, MONTH: string, WEEK: string, HOURS: string, MINUTES: string, TOTAL MINUTES PASS: string, SOURCE_KEY_NUMBER: string]"
            ]
          },
          "metadata": {},
          "execution_count": 35
        }
      ]
    },
    {
      "cell_type": "code",
      "source": [
        "df_spark.describe().show()"
      ],
      "metadata": {
        "colab": {
          "base_uri": "https://localhost:8080/"
        },
        "id": "KGOoBuqSO-37",
        "outputId": "e54a5351-7604-4821-f5bb-b5f68961f83f"
      },
      "execution_count": null,
      "outputs": [
        {
          "output_type": "stream",
          "name": "stdout",
          "text": [
            "+-------+---------------+------------------+------------------+------------------+-------------------+-------------------+------------------+------------------+------------------+------------------+------------------+------------------+------------------+------------------+-----------------+\n",
            "|summary|     SOURCE_KEY|          DC_POWER|          AC_POWER|       DAILY_YIELD|        TOTAL_YIELD|AMBIENT_TEMPERATURE|MODULE_TEMPERATURE|       IRRADIATION|               DAY|             MONTH|              WEEK|             HOURS|           MINUTES|TOTAL MINUTES PASS|SOURCE_KEY_NUMBER|\n",
            "+-------+---------------+------------------+------------------+------------------+-------------------+-------------------+------------------+------------------+------------------+------------------+------------------+------------------+------------------+------------------+-----------------+\n",
            "|  count|          67698|             67698|             67698|             67698|              67698|              67698|             67698|             67698|             67698|             67698|             67698|             67698|             67698|             67698|            67698|\n",
            "|   mean|           NULL| 246.7019608878167|241.27782520089696|3294.8902951797795|6.589447884237643E8| 27.986756162029643|32.607232631987905|0.2292042341169945|15.530680374604863| 5.529705456586605|22.563295813761115|11.530207687080859|22.517061065319506| 714.3295222901711|10.46265768560371|\n",
            "| stddev|           NULL|370.56959674518936|362.11211783380793|2919.4483856560205|7.296677710732422E8|  4.021293930153428|11.226445952151419| 0.309364875143023| 8.527545890033572|0.4991204922061067|1.4747295369270532| 6.922126952611689|16.764083740632277| 415.6722743878506| 6.35786462805027|\n",
            "|    min|4UPUqMRk7TRMgml|               0.0|               0.0|               0.0|                0.0| 20.942384766666667| 20.26512306896552|               0.0|                 1|                 5|                20|                 0|                 0|                 0|                0|\n",
            "|    max|xoJJ8DcxJEcupym|1420.9333333333332|           1385.42|            9873.0|      2.247916295E9|  39.18163776666666|  66.6359527586207|1.0987660434482758|                31|                 6|                25|                23|                45|              1425|               21|\n",
            "+-------+---------------+------------------+------------------+------------------+-------------------+-------------------+------------------+------------------+------------------+------------------+------------------+------------------+------------------+------------------+-----------------+\n",
            "\n"
          ]
        }
      ]
    },
    {
      "cell_type": "code",
      "source": [
        "###  To add columns in df\n",
        "df_sp=df_spark.withColumn(\"week _after2\", df_spark['WEEK'] +2 )\n",
        "df_sp.show()"
      ],
      "metadata": {
        "colab": {
          "base_uri": "https://localhost:8080/"
        },
        "id": "zLEsJKELO-5k",
        "outputId": "151f58e2-3ab5-4eaa-c388-9da68d9a9548"
      },
      "execution_count": null,
      "outputs": [
        {
          "output_type": "stream",
          "name": "stdout",
          "text": [
            "+-------------------+---------------+--------+--------+------------------+-------------+-------------------+------------------+-----------+----------+-------------------+---+-----+----+-----+-------+------------------+-----------+-----------------+------------+\n",
            "|          DATE_TIME|     SOURCE_KEY|DC_POWER|AC_POWER|       DAILY_YIELD|  TOTAL_YIELD|AMBIENT_TEMPERATURE|MODULE_TEMPERATURE|IRRADIATION|      DATE|               TIME|DAY|MONTH|WEEK|HOURS|MINUTES|TOTAL MINUTES PASS|DATE_STRING|SOURCE_KEY_NUMBER|week _after2|\n",
            "+-------------------+---------------+--------+--------+------------------+-------------+-------------------+------------------+-----------+----------+-------------------+---+-----+----+-----+-------+------------------+-----------+-----------------+------------+\n",
            "|2020-05-15 00:00:00|4UPUqMRk7TRMgml|     0.0|     0.0|            9425.0|    2429011.0| 27.004763700000005|        25.0607889|        0.0|2020-05-15|2025-01-03 00:00:00| 15|    5|  20|    0|      0|                 0| 2020-05-15|                0|          22|\n",
            "|2020-05-15 00:00:00|81aHJ1q11NBPMrL|     0.0|     0.0|               0.0|1.215278736E9| 27.004763700000005|        25.0607889|        0.0|2020-05-15|2025-01-03 00:00:00| 15|    5|  20|    0|      0|                 0| 2020-05-15|                1|          22|\n",
            "|2020-05-15 00:00:00|9kRcWv60rDACzjR|     0.0|     0.0|3075.3333333333344|2.247719577E9| 27.004763700000005|        25.0607889|        0.0|2020-05-15|2025-01-03 00:00:00| 15|    5|  20|    0|      0|                 0| 2020-05-15|                2|          22|\n",
            "|2020-05-15 00:00:00|Et9kgGMDl729KT4|     0.0|     0.0| 269.9333333333333|    1704250.0| 27.004763700000005|        25.0607889|        0.0|2020-05-15|2025-01-03 00:00:00| 15|    5|  20|    0|      0|                 0| 2020-05-15|                3|          22|\n",
            "|2020-05-15 00:00:00|IQ2d7wF4YD8zU1Q|     0.0|     0.0|            3177.0|  1.9941526E7| 27.004763700000005|        25.0607889|        0.0|2020-05-15|2025-01-03 00:00:00| 15|    5|  20|    0|      0|                 0| 2020-05-15|                4|          22|\n",
            "|2020-05-15 00:00:00|LYwnQax7tkwH5Cb|     0.0|     0.0|            1872.5|1.794958634E9| 27.004763700000005|        25.0607889|        0.0|2020-05-15|2025-01-03 00:00:00| 15|    5|  20|    0|      0|                 0| 2020-05-15|                5|          22|\n",
            "|2020-05-15 00:00:00|LlT2YUhhzqhg5Sw|     0.0|     0.0| 1094.357142857143|  2.8259281E8| 27.004763700000005|        25.0607889|        0.0|2020-05-15|2025-01-03 00:00:00| 15|    5|  20|    0|      0|                 0| 2020-05-15|                6|          22|\n",
            "|2020-05-15 00:00:00|Mx2yZCDsyf6DPfv|     0.0|     0.0|            5692.2|    2453646.0| 27.004763700000005|        25.0607889|        0.0|2020-05-15|2025-01-03 00:00:00| 15|    5|  20|    0|      0|                 0| 2020-05-15|                7|          22|\n",
            "|2020-05-15 00:00:00|NgDl19wMapZy17u|     0.0|     0.0|            1866.2| 1.11512591E8| 27.004763700000005|        25.0607889|        0.0|2020-05-15|2025-01-03 00:00:00| 15|    5|  20|    0|      0|                 0| 2020-05-15|                8|          22|\n",
            "|2020-05-15 00:00:00|PeE6FRyGXUgsRhN|     0.0|     0.0| 651.1999999999999|1.348350801E9| 27.004763700000005|        25.0607889|        0.0|2020-05-15|2025-01-03 00:00:00| 15|    5|  20|    0|      0|                 0| 2020-05-15|                9|          22|\n",
            "|2020-05-15 00:00:00|Qf4GUc1pJu5T6c6|     0.0|     0.0|               0.0| 8.38421377E8| 27.004763700000005|        25.0607889|        0.0|2020-05-15|2025-01-03 00:00:00| 15|    5|  20|    0|      0|                 0| 2020-05-15|               10|          22|\n",
            "|2020-05-15 00:00:00|Quc1TzYxW2pYoWX|     0.0|     0.0|            5495.0| 3.29509085E8| 27.004763700000005|        25.0607889|        0.0|2020-05-15|2025-01-03 00:00:00| 15|    5|  20|    0|      0|                 0| 2020-05-15|               11|          22|\n",
            "|2020-05-15 00:00:00|V94E5Ben1TlhnDV|     0.0|     0.0|               0.0|1.412083119E9| 27.004763700000005|        25.0607889|        0.0|2020-05-15|2025-01-03 00:00:00| 15|    5|  20|    0|      0|                 0| 2020-05-15|               12|          22|\n",
            "|2020-05-15 00:00:00|WcxssY2VbP4hApt|     0.0|     0.0|               0.0| 1.81695261E8| 27.004763700000005|        25.0607889|        0.0|2020-05-15|2025-01-03 00:00:00| 15|    5|  20|    0|      0|                 0| 2020-05-15|               13|          22|\n",
            "|2020-05-15 00:00:00|mqwcsP2rE7J0TFp|     0.0|     0.0|1238.5333333333333| 5.93580025E8| 27.004763700000005|        25.0607889|        0.0|2020-05-15|2025-01-03 00:00:00| 15|    5|  20|    0|      0|                 0| 2020-05-15|               14|          22|\n",
            "|2020-05-15 00:00:00|oZ35aAeoifZaQzV|     0.0|     0.0|1281.4666666666667|1.659965051E9| 27.004763700000005|        25.0607889|        0.0|2020-05-15|2025-01-03 00:00:00| 15|    5|  20|    0|      0|                 0| 2020-05-15|               15|          22|\n",
            "|2020-05-15 00:00:00|oZZkBaNadn6DNKz|     0.0|     0.0|               0.0|1.708083348E9| 27.004763700000005|        25.0607889|        0.0|2020-05-15|2025-01-03 00:00:00| 15|    5|  20|    0|      0|                 0| 2020-05-15|               16|          22|\n",
            "|2020-05-15 00:00:00|q49J1IKaHRwDQnt|     0.0|     0.0|            4315.0|     339923.0| 27.004763700000005|        25.0607889|        0.0|2020-05-15|2025-01-03 00:00:00| 15|    5|  20|    0|      0|                 0| 2020-05-15|               17|          22|\n",
            "|2020-05-15 00:00:00|rrq4fwE8jgrTyWY|     0.0|     0.0|280.21428571428567| 1.20964108E8| 27.004763700000005|        25.0607889|        0.0|2020-05-15|2025-01-03 00:00:00| 15|    5|  20|    0|      0|                 0| 2020-05-15|               18|          22|\n",
            "|2020-05-15 00:00:00|vOuJvMaM2sgwLmb|     0.0|     0.0|               0.0|    2211962.0| 27.004763700000005|        25.0607889|        0.0|2020-05-15|2025-01-03 00:00:00| 15|    5|  20|    0|      0|                 0| 2020-05-15|               19|          22|\n",
            "+-------------------+---------------+--------+--------+------------------+-------------+-------------------+------------------+-----------+----------+-------------------+---+-----+----+-----+-------+------------------+-----------+-----------------+------------+\n",
            "only showing top 20 rows\n",
            "\n"
          ]
        }
      ]
    },
    {
      "cell_type": "code",
      "source": [],
      "metadata": {
        "id": "wodOmxlCT5Ci"
      },
      "execution_count": null,
      "outputs": []
    },
    {
      "cell_type": "code",
      "source": [
        "#drop col\n",
        "df_drop =df_sp.drop('week _after2')"
      ],
      "metadata": {
        "id": "GD4mJIQsO-8s"
      },
      "execution_count": null,
      "outputs": []
    },
    {
      "cell_type": "code",
      "source": [
        "#rename columns\n",
        "df_drop.withColumnRenamed('WEEK', \"Week\").show()"
      ],
      "metadata": {
        "colab": {
          "base_uri": "https://localhost:8080/"
        },
        "id": "qflsZ6aiO--x",
        "outputId": "c1992432-ddac-45ef-b1ae-b6ad102bf39f"
      },
      "execution_count": null,
      "outputs": [
        {
          "output_type": "stream",
          "name": "stdout",
          "text": [
            "+-------------------+---------------+--------+--------+------------------+-------------+-------------------+------------------+-----------+----------+-------------------+---+-----+----+-----+-------+------------------+-----------+-----------------+\n",
            "|          DATE_TIME|     SOURCE_KEY|DC_POWER|AC_POWER|       DAILY_YIELD|  TOTAL_YIELD|AMBIENT_TEMPERATURE|MODULE_TEMPERATURE|IRRADIATION|      DATE|               TIME|DAY|MONTH|Week|HOURS|MINUTES|TOTAL MINUTES PASS|DATE_STRING|SOURCE_KEY_NUMBER|\n",
            "+-------------------+---------------+--------+--------+------------------+-------------+-------------------+------------------+-----------+----------+-------------------+---+-----+----+-----+-------+------------------+-----------+-----------------+\n",
            "|2020-05-15 00:00:00|4UPUqMRk7TRMgml|     0.0|     0.0|            9425.0|    2429011.0| 27.004763700000005|        25.0607889|        0.0|2020-05-15|2025-01-03 00:00:00| 15|    5|  20|    0|      0|                 0| 2020-05-15|                0|\n",
            "|2020-05-15 00:00:00|81aHJ1q11NBPMrL|     0.0|     0.0|               0.0|1.215278736E9| 27.004763700000005|        25.0607889|        0.0|2020-05-15|2025-01-03 00:00:00| 15|    5|  20|    0|      0|                 0| 2020-05-15|                1|\n",
            "|2020-05-15 00:00:00|9kRcWv60rDACzjR|     0.0|     0.0|3075.3333333333344|2.247719577E9| 27.004763700000005|        25.0607889|        0.0|2020-05-15|2025-01-03 00:00:00| 15|    5|  20|    0|      0|                 0| 2020-05-15|                2|\n",
            "|2020-05-15 00:00:00|Et9kgGMDl729KT4|     0.0|     0.0| 269.9333333333333|    1704250.0| 27.004763700000005|        25.0607889|        0.0|2020-05-15|2025-01-03 00:00:00| 15|    5|  20|    0|      0|                 0| 2020-05-15|                3|\n",
            "|2020-05-15 00:00:00|IQ2d7wF4YD8zU1Q|     0.0|     0.0|            3177.0|  1.9941526E7| 27.004763700000005|        25.0607889|        0.0|2020-05-15|2025-01-03 00:00:00| 15|    5|  20|    0|      0|                 0| 2020-05-15|                4|\n",
            "|2020-05-15 00:00:00|LYwnQax7tkwH5Cb|     0.0|     0.0|            1872.5|1.794958634E9| 27.004763700000005|        25.0607889|        0.0|2020-05-15|2025-01-03 00:00:00| 15|    5|  20|    0|      0|                 0| 2020-05-15|                5|\n",
            "|2020-05-15 00:00:00|LlT2YUhhzqhg5Sw|     0.0|     0.0| 1094.357142857143|  2.8259281E8| 27.004763700000005|        25.0607889|        0.0|2020-05-15|2025-01-03 00:00:00| 15|    5|  20|    0|      0|                 0| 2020-05-15|                6|\n",
            "|2020-05-15 00:00:00|Mx2yZCDsyf6DPfv|     0.0|     0.0|            5692.2|    2453646.0| 27.004763700000005|        25.0607889|        0.0|2020-05-15|2025-01-03 00:00:00| 15|    5|  20|    0|      0|                 0| 2020-05-15|                7|\n",
            "|2020-05-15 00:00:00|NgDl19wMapZy17u|     0.0|     0.0|            1866.2| 1.11512591E8| 27.004763700000005|        25.0607889|        0.0|2020-05-15|2025-01-03 00:00:00| 15|    5|  20|    0|      0|                 0| 2020-05-15|                8|\n",
            "|2020-05-15 00:00:00|PeE6FRyGXUgsRhN|     0.0|     0.0| 651.1999999999999|1.348350801E9| 27.004763700000005|        25.0607889|        0.0|2020-05-15|2025-01-03 00:00:00| 15|    5|  20|    0|      0|                 0| 2020-05-15|                9|\n",
            "|2020-05-15 00:00:00|Qf4GUc1pJu5T6c6|     0.0|     0.0|               0.0| 8.38421377E8| 27.004763700000005|        25.0607889|        0.0|2020-05-15|2025-01-03 00:00:00| 15|    5|  20|    0|      0|                 0| 2020-05-15|               10|\n",
            "|2020-05-15 00:00:00|Quc1TzYxW2pYoWX|     0.0|     0.0|            5495.0| 3.29509085E8| 27.004763700000005|        25.0607889|        0.0|2020-05-15|2025-01-03 00:00:00| 15|    5|  20|    0|      0|                 0| 2020-05-15|               11|\n",
            "|2020-05-15 00:00:00|V94E5Ben1TlhnDV|     0.0|     0.0|               0.0|1.412083119E9| 27.004763700000005|        25.0607889|        0.0|2020-05-15|2025-01-03 00:00:00| 15|    5|  20|    0|      0|                 0| 2020-05-15|               12|\n",
            "|2020-05-15 00:00:00|WcxssY2VbP4hApt|     0.0|     0.0|               0.0| 1.81695261E8| 27.004763700000005|        25.0607889|        0.0|2020-05-15|2025-01-03 00:00:00| 15|    5|  20|    0|      0|                 0| 2020-05-15|               13|\n",
            "|2020-05-15 00:00:00|mqwcsP2rE7J0TFp|     0.0|     0.0|1238.5333333333333| 5.93580025E8| 27.004763700000005|        25.0607889|        0.0|2020-05-15|2025-01-03 00:00:00| 15|    5|  20|    0|      0|                 0| 2020-05-15|               14|\n",
            "|2020-05-15 00:00:00|oZ35aAeoifZaQzV|     0.0|     0.0|1281.4666666666667|1.659965051E9| 27.004763700000005|        25.0607889|        0.0|2020-05-15|2025-01-03 00:00:00| 15|    5|  20|    0|      0|                 0| 2020-05-15|               15|\n",
            "|2020-05-15 00:00:00|oZZkBaNadn6DNKz|     0.0|     0.0|               0.0|1.708083348E9| 27.004763700000005|        25.0607889|        0.0|2020-05-15|2025-01-03 00:00:00| 15|    5|  20|    0|      0|                 0| 2020-05-15|               16|\n",
            "|2020-05-15 00:00:00|q49J1IKaHRwDQnt|     0.0|     0.0|            4315.0|     339923.0| 27.004763700000005|        25.0607889|        0.0|2020-05-15|2025-01-03 00:00:00| 15|    5|  20|    0|      0|                 0| 2020-05-15|               17|\n",
            "|2020-05-15 00:00:00|rrq4fwE8jgrTyWY|     0.0|     0.0|280.21428571428567| 1.20964108E8| 27.004763700000005|        25.0607889|        0.0|2020-05-15|2025-01-03 00:00:00| 15|    5|  20|    0|      0|                 0| 2020-05-15|               18|\n",
            "|2020-05-15 00:00:00|vOuJvMaM2sgwLmb|     0.0|     0.0|               0.0|    2211962.0| 27.004763700000005|        25.0607889|        0.0|2020-05-15|2025-01-03 00:00:00| 15|    5|  20|    0|      0|                 0| 2020-05-15|               19|\n",
            "+-------------------+---------------+--------+--------+------------------+-------------+-------------------+------------------+-----------+----------+-------------------+---+-----+----+-----+-------+------------------+-----------+-----------------+\n",
            "only showing top 20 rows\n",
            "\n"
          ]
        }
      ]
    },
    {
      "cell_type": "code",
      "source": [],
      "metadata": {
        "id": "2TpqdG_pO_CU"
      },
      "execution_count": null,
      "outputs": []
    },
    {
      "cell_type": "code",
      "source": [],
      "metadata": {
        "id": "78hZlpwCO_Fu"
      },
      "execution_count": null,
      "outputs": []
    },
    {
      "cell_type": "code",
      "source": [],
      "metadata": {
        "id": "oxL0IxlCO_Hk"
      },
      "execution_count": null,
      "outputs": []
    },
    {
      "cell_type": "code",
      "source": [],
      "metadata": {
        "id": "VvnHPRT4O_Jf"
      },
      "execution_count": null,
      "outputs": []
    },
    {
      "cell_type": "code",
      "source": [],
      "metadata": {
        "id": "s097wKPiO_Mo"
      },
      "execution_count": null,
      "outputs": []
    }
  ]
}